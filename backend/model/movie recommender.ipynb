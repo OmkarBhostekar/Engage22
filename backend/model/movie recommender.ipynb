{
 "cells": [
  {
   "cell_type": "code",
   "execution_count": 86,
   "id": "38db313e",
   "metadata": {},
   "outputs": [],
   "source": [
    "import numpy as np\n",
    "import pandas as pd\n",
    "import matplotlib.pyplot as plt\n",
    "import seaborn as sns\n",
    "import gc\n",
    "import pickle"
   ]
  },
  {
   "cell_type": "code",
   "execution_count": 87,
   "id": "7b857749",
   "metadata": {},
   "outputs": [],
   "source": [
    "ratings = pd.read_csv('ratings.csv')\n",
    "movies = pd.read_csv('movies.csv')"
   ]
  },
  {
   "cell_type": "code",
   "execution_count": 88,
   "id": "051e6a3b",
   "metadata": {},
   "outputs": [],
   "source": [
    "movies['genres'] = movies['genres'].apply(lambda x: x.replace('|',','))"
   ]
  },
  {
   "cell_type": "code",
   "execution_count": 89,
   "id": "411920b3",
   "metadata": {},
   "outputs": [
    {
     "data": {
      "text/plain": [
       "'\\n<============== top rated recommendations ==============>\\n'"
      ]
     },
     "execution_count": 89,
     "metadata": {},
     "output_type": "execute_result"
    }
   ],
   "source": [
    "'''\n",
    "<============== top rated recommendations ==============>\n",
    "'''"
   ]
  },
  {
   "cell_type": "code",
   "execution_count": 90,
   "id": "ee7137a9",
   "metadata": {},
   "outputs": [],
   "source": [
    "def weighted_rating(v,m,R,C):\n",
    "    '''\n",
    "    Calculate the weighted rating\n",
    "    \n",
    "    v -> average rating for each item (float)\n",
    "    m -> minimum votes required to be classified as popular (float)\n",
    "    R -> average rating for the item (pd.Series)\n",
    "    C -> average rating for the whole dataset (pd.Series)\n",
    "    '''\n",
    "    return ( (v / (v + m)) * R) + ( (m / (v + m)) * C )"
   ]
  },
  {
   "cell_type": "code",
   "execution_count": 91,
   "id": "8c491190",
   "metadata": {},
   "outputs": [],
   "source": [
    "# pre processing\n",
    "vote_count = (\n",
    "    ratings\n",
    "    .groupby('movieId',as_index=False)\n",
    "    .agg( {'userId':'count', 'rating':'mean'} )\n",
    "    )\n",
    "vote_count.columns = ['movieId', 'vote_count', 'avg_rating']\n",
    "\n",
    "# calcuate input parameters\n",
    "C = np.mean(vote_count['avg_rating'])\n",
    "m = np.percentile(vote_count['vote_count'], 70)\n",
    "vote_count = vote_count[vote_count['vote_count'] >= m]\n",
    "R = vote_count['avg_rating']\n",
    "v = vote_count['vote_count']\n",
    "vote_count['weighted_rating'] = weighted_rating(v,m,R,C)\n",
    "\n",
    "# post processing\n",
    "vote_count = vote_count.merge(movies, on = ['movieId'], how = 'left')\n",
    "popular_items = vote_count.loc[:,['movieId','title', 'genres', 'overview','poster_path','vote_count', 'avg_rating', 'weighted_rating']]\n",
    "popular_items = popular_items.sort_values('weighted_rating',ascending=False)\n",
    "popular_items = popular_items.head(10)\n",
    "\n",
    "file = open('top_rated', 'wb')\n",
    "pickle.dump(popular_items, file)\n",
    "file.close()"
   ]
  },
  {
   "cell_type": "code",
   "execution_count": 92,
   "id": "b5222903",
   "metadata": {},
   "outputs": [],
   "source": [
    "f = open('top_rated', 'rb')\n",
    "data = pickle.load(f)\n",
    "file.close()"
   ]
  },
  {
   "cell_type": "code",
   "execution_count": 93,
   "id": "83701317",
   "metadata": {},
   "outputs": [],
   "source": [
    "def get_top_rated():\n",
    "    return data"
   ]
  },
  {
   "cell_type": "code",
   "execution_count": 94,
   "id": "7dd29033",
   "metadata": {},
   "outputs": [
    {
     "data": {
      "text/plain": [
       "'\\n<============== content based recommendations ==============>\\n'"
      ]
     },
     "execution_count": 94,
     "metadata": {},
     "output_type": "execute_result"
    }
   ],
   "source": [
    "'''\n",
    "<============== content based recommendations ==============>\n",
    "'''"
   ]
  },
  {
   "cell_type": "code",
   "execution_count": 95,
   "id": "6d4ff4c9",
   "metadata": {},
   "outputs": [],
   "source": [
    "from sklearn.metrics.pairwise import cosine_similarity"
   ]
  },
  {
   "cell_type": "code",
   "execution_count": 96,
   "id": "3ef5d744",
   "metadata": {},
   "outputs": [],
   "source": [
    "# preprocessing\n",
    "ratedMovies = movies.loc[movies['movieId'].isin(ratings['movieId'])].copy()"
   ]
  },
  {
   "cell_type": "code",
   "execution_count": 98,
   "id": "cc777845",
   "metadata": {},
   "outputs": [],
   "source": [
    "# extract the genre\n",
    "genre = ratedMovies['genres'].str.split(\",\", expand=True)\n",
    "\n",
    "# get all possible genre\n",
    "all_genre = set()\n",
    "for c in genre.columns:\n",
    "    distinct_genre = genre[c].str.lower().str.strip().unique()\n",
    "    all_genre.update(distinct_genre)\n",
    "all_genre.remove(None)\n",
    "all_genre.remove('(no genres listed)')\n",
    "\n",
    "# dump matrix\n",
    "f1 = open('genre', 'wb')\n",
    "pickle.dump(all_genre, f1)\n",
    "f1.close()"
   ]
  },
  {
   "cell_type": "code",
   "execution_count": 78,
   "id": "2729d5a7",
   "metadata": {},
   "outputs": [
    {
     "name": "stderr",
     "output_type": "stream",
     "text": [
      "C:\\Users\\otbho\\AppData\\Local\\Temp/ipykernel_9140/1456126251.py:7: PerformanceWarning: DataFrame is highly fragmented.  This is usually the result of calling `frame.insert` many times, which has poor performance.  Consider joining all columns at once using pd.concat(axis=1) instead.  To get a de-fragmented frame, use `newframe = frame.copy()`\n",
      "  item_genre_mat[genre] = np.where(item_genre_mat['genres'].str.contains(genre), 1, 0)\n",
      "C:\\Users\\otbho\\AppData\\Local\\Temp/ipykernel_9140/1456126251.py:7: UserWarning: This pattern has match groups. To actually get the groups, use str.extract.\n",
      "  item_genre_mat[genre] = np.where(item_genre_mat['genres'].str.contains(genre), 1, 0)\n"
     ]
    }
   ],
   "source": [
    "# create item-genre matrix\n",
    "item_genre_mat = ratedMovies[['movieId', 'genres']].copy()\n",
    "item_genre_mat['genres'] = item_genre_mat['genres'].str.lower().str.strip()\n",
    "\n",
    "# OHE the genres column\n",
    "for genre in all_genre:\n",
    "    item_genre_mat[genre] = np.where(item_genre_mat['genres'].str.contains(genre), 1, 0)\n",
    "item_genre_mat = item_genre_mat.drop(['genres'], axis=1)\n",
    "item_genre_mat = item_genre_mat.set_index('movieId')\n",
    "\n",
    "# compute similarity matix\n",
    "corr_mat = cosine_similarity(item_genre_mat)\n",
    "\n",
    "# dump matrix\n",
    "f1 = open('corr_mat', 'wb')\n",
    "pickle.dump(corr_mat, f1)\n",
    "f1.close()\n",
    "f2 = open('item_genre_mat', 'wb')\n",
    "pickle.dump(item_genre_mat, f2)\n",
    "f2.close()"
   ]
  },
  {
   "cell_type": "code",
   "execution_count": 79,
   "id": "cad9fdf9",
   "metadata": {},
   "outputs": [],
   "source": [
    "r = open('item_genre_mat', 'rb')\n",
    "item_genre_mat = pickle.load(r)\n",
    "r.close()\n",
    "r2 = open('corr_mat', 'rb')\n",
    "corr_mat = pickle.load(r2)\n",
    "r2.close()"
   ]
  },
  {
   "cell_type": "code",
   "execution_count": 80,
   "id": "29930a4e",
   "metadata": {},
   "outputs": [],
   "source": [
    "def top_k_items(item_id, top_k, corr_mat, map_name):\n",
    "    \n",
    "    # sort correlation value ascendingly and select top_k item_id\n",
    "    top_items = corr_mat[item_id,:].argsort()[-top_k:][::-1] \n",
    "    top_items = [map_name[e] for e in top_items] \n",
    "\n",
    "    return top_items"
   ]
  },
  {
   "cell_type": "code",
   "execution_count": 81,
   "id": "1effbb8c",
   "metadata": {},
   "outputs": [],
   "source": [
    "# get top-k similar items\n",
    "ind2name = {ind:name for ind,name in enumerate(item_genre_mat.index)}\n",
    "name2ind = {v:k for k,v in ind2name.items()}"
   ]
  },
  {
   "cell_type": "code",
   "execution_count": 82,
   "id": "5ac6a243",
   "metadata": {},
   "outputs": [],
   "source": [
    "movieId = 110102"
   ]
  },
  {
   "cell_type": "code",
   "execution_count": 83,
   "id": "e992618e",
   "metadata": {},
   "outputs": [],
   "source": [
    "similar_items = top_k_items(name2ind[movieId],\n",
    "                            top_k = 10,\n",
    "                            corr_mat = corr_mat,\n",
    "                            map_name = ind2name)\n",
    "similar_items.remove(movieId)"
   ]
  },
  {
   "cell_type": "code",
   "execution_count": 84,
   "id": "b8bd81dc",
   "metadata": {},
   "outputs": [
    {
     "data": {
      "text/plain": [
       "[95510, 103228, 106487, 68358, 69526, 72998, 106002, 5378, 102445]"
      ]
     },
     "execution_count": 84,
     "metadata": {},
     "output_type": "execute_result"
    }
   ],
   "source": [
    "similar_items"
   ]
  },
  {
   "cell_type": "code",
   "execution_count": 53,
   "id": "92dd7b63",
   "metadata": {},
   "outputs": [
    {
     "data": {
      "text/html": [
       "<div>\n",
       "<style scoped>\n",
       "    .dataframe tbody tr th:only-of-type {\n",
       "        vertical-align: middle;\n",
       "    }\n",
       "\n",
       "    .dataframe tbody tr th {\n",
       "        vertical-align: top;\n",
       "    }\n",
       "\n",
       "    .dataframe thead th {\n",
       "        text-align: right;\n",
       "    }\n",
       "</style>\n",
       "<table border=\"1\" class=\"dataframe\">\n",
       "  <thead>\n",
       "    <tr style=\"text-align: right;\">\n",
       "      <th></th>\n",
       "      <th>Unnamed: 0</th>\n",
       "      <th>movieId</th>\n",
       "      <th>title</th>\n",
       "      <th>genres</th>\n",
       "      <th>imdbId</th>\n",
       "      <th>tmdbId</th>\n",
       "      <th>g2</th>\n",
       "      <th>overview</th>\n",
       "      <th>poster_path</th>\n",
       "      <th>tagline</th>\n",
       "    </tr>\n",
       "  </thead>\n",
       "  <tbody>\n",
       "    <tr>\n",
       "      <th>3828</th>\n",
       "      <td>3828</td>\n",
       "      <td>5378</td>\n",
       "      <td>Star Wars: Episode II - Attack of the Clones (...</td>\n",
       "      <td>Action,Adventure,Sci-Fi,IMAX</td>\n",
       "      <td>121765</td>\n",
       "      <td>1894.0</td>\n",
       "      <td>[{'id': 12, 'name': 'Adventure'}, {'id': 28, '...</td>\n",
       "      <td>Ten years after the invasion of Naboo, the gal...</td>\n",
       "      <td>/2vcNFtrZXNwIcBgH5e2xXCmVR8t.jpg</td>\n",
       "      <td>A Jedi Shall Not Know Anger. Nor Hatred. Nor L...</td>\n",
       "    </tr>\n",
       "    <tr>\n",
       "      <th>5260</th>\n",
       "      <td>5260</td>\n",
       "      <td>8636</td>\n",
       "      <td>Spider-Man 2 (2004)</td>\n",
       "      <td>Action,Adventure,Sci-Fi,IMAX</td>\n",
       "      <td>316654</td>\n",
       "      <td>558.0</td>\n",
       "      <td>[{'id': 28, 'name': 'Action'}, {'id': 12, 'nam...</td>\n",
       "      <td>Peter Parker is going through a major identity...</td>\n",
       "      <td>/qtBFrsEQ4oXW8sKvRxkKnYuPLg.jpg</td>\n",
       "      <td>There's a hero in all of us.</td>\n",
       "    </tr>\n",
       "    <tr>\n",
       "      <th>6230</th>\n",
       "      <td>6230</td>\n",
       "      <td>46530</td>\n",
       "      <td>Superman Returns (2006)</td>\n",
       "      <td>Action,Adventure,Sci-Fi,IMAX</td>\n",
       "      <td>348150</td>\n",
       "      <td>1452.0</td>\n",
       "      <td>[{'id': 12, 'name': 'Adventure'}, {'id': 14, '...</td>\n",
       "      <td>Superman returns to discover his 5-year absenc...</td>\n",
       "      <td>/e3aLTaD5ppxo3en0GAGceekEPAe.jpg</td>\n",
       "      <td>NaN</td>\n",
       "    </tr>\n",
       "    <tr>\n",
       "      <th>7007</th>\n",
       "      <td>7007</td>\n",
       "      <td>68358</td>\n",
       "      <td>Star Trek (2009)</td>\n",
       "      <td>Action,Adventure,Sci-Fi,IMAX</td>\n",
       "      <td>796366</td>\n",
       "      <td>13475.0</td>\n",
       "      <td>[{'id': 878, 'name': 'Science Fiction'}, {'id'...</td>\n",
       "      <td>The fate of the galaxy rests in the hands of b...</td>\n",
       "      <td>/6V0CY7pwdDOCDS2XqNWahmIlVYh.jpg</td>\n",
       "      <td>The future begins.</td>\n",
       "    </tr>\n",
       "    <tr>\n",
       "      <th>7053</th>\n",
       "      <td>7053</td>\n",
       "      <td>69526</td>\n",
       "      <td>Transformers: Revenge of the Fallen (2009)</td>\n",
       "      <td>Action,Adventure,Sci-Fi,IMAX</td>\n",
       "      <td>1055369</td>\n",
       "      <td>8373.0</td>\n",
       "      <td>[{'id': 878, 'name': 'Science Fiction'}, {'id'...</td>\n",
       "      <td>Sam Witwicky leaves the Autobots behind for a ...</td>\n",
       "      <td>/kVISXAXDYhjQCfu50QZeCCzzbPv.jpg</td>\n",
       "      <td>Revenge is coming.</td>\n",
       "    </tr>\n",
       "    <tr>\n",
       "      <th>7201</th>\n",
       "      <td>7201</td>\n",
       "      <td>72998</td>\n",
       "      <td>Avatar (2009)</td>\n",
       "      <td>Action,Adventure,Sci-Fi,IMAX</td>\n",
       "      <td>499549</td>\n",
       "      <td>19995.0</td>\n",
       "      <td>[{'id': 28, 'name': 'Action'}, {'id': 12, 'nam...</td>\n",
       "      <td>In the 22nd century, a paraplegic Marine is di...</td>\n",
       "      <td>/kmcqlZGaSh20zpTbuoF0Cdn07dT.jpg</td>\n",
       "      <td>Enter the World of Pandora.</td>\n",
       "    </tr>\n",
       "    <tr>\n",
       "      <th>7472</th>\n",
       "      <td>7472</td>\n",
       "      <td>82461</td>\n",
       "      <td>Tron: Legacy (2010)</td>\n",
       "      <td>Action,Adventure,Sci-Fi,IMAX</td>\n",
       "      <td>1104001</td>\n",
       "      <td>20526.0</td>\n",
       "      <td>[{'id': 12, 'name': 'Adventure'}, {'id': 28, '...</td>\n",
       "      <td>Sam Flynn, the tech-savvy and daring son of Ke...</td>\n",
       "      <td>/vllvystwQjmXzy5OvBKnGl1JREF.jpg</td>\n",
       "      <td>The Game Has Changed.</td>\n",
       "    </tr>\n",
       "    <tr>\n",
       "      <th>7911</th>\n",
       "      <td>7911</td>\n",
       "      <td>95510</td>\n",
       "      <td>Amazing Spider-Man, The (2012)</td>\n",
       "      <td>Action,Adventure,Sci-Fi,IMAX</td>\n",
       "      <td>948470</td>\n",
       "      <td>1930.0</td>\n",
       "      <td>[{'id': 28, 'name': 'Action'}, {'id': 12, 'nam...</td>\n",
       "      <td>Peter Parker is an outcast high schooler aband...</td>\n",
       "      <td>/eA2D86Y6VPWuUzZyatiLBwpTilQ.jpg</td>\n",
       "      <td>The untold story begins.</td>\n",
       "    </tr>\n",
       "    <tr>\n",
       "      <th>8270</th>\n",
       "      <td>8270</td>\n",
       "      <td>106002</td>\n",
       "      <td>Ender's Game (2013)</td>\n",
       "      <td>Action,Adventure,Sci-Fi,IMAX</td>\n",
       "      <td>1731141</td>\n",
       "      <td>80274.0</td>\n",
       "      <td>[{'id': 878, 'name': 'Science Fiction'}, {'id'...</td>\n",
       "      <td>Based on the classic novel by Orson Scott Card...</td>\n",
       "      <td>/vuZ8uSqyOM5698yNraF7OJRM3mS.jpg</td>\n",
       "      <td>This is not a game.</td>\n",
       "    </tr>\n",
       "  </tbody>\n",
       "</table>\n",
       "</div>"
      ],
      "text/plain": [
       "      Unnamed: 0  movieId                                              title  \\\n",
       "3828        3828     5378  Star Wars: Episode II - Attack of the Clones (...   \n",
       "5260        5260     8636                                Spider-Man 2 (2004)   \n",
       "6230        6230    46530                            Superman Returns (2006)   \n",
       "7007        7007    68358                                   Star Trek (2009)   \n",
       "7053        7053    69526         Transformers: Revenge of the Fallen (2009)   \n",
       "7201        7201    72998                                      Avatar (2009)   \n",
       "7472        7472    82461                                Tron: Legacy (2010)   \n",
       "7911        7911    95510                     Amazing Spider-Man, The (2012)   \n",
       "8270        8270   106002                                Ender's Game (2013)   \n",
       "\n",
       "                            genres   imdbId   tmdbId  \\\n",
       "3828  Action,Adventure,Sci-Fi,IMAX   121765   1894.0   \n",
       "5260  Action,Adventure,Sci-Fi,IMAX   316654    558.0   \n",
       "6230  Action,Adventure,Sci-Fi,IMAX   348150   1452.0   \n",
       "7007  Action,Adventure,Sci-Fi,IMAX   796366  13475.0   \n",
       "7053  Action,Adventure,Sci-Fi,IMAX  1055369   8373.0   \n",
       "7201  Action,Adventure,Sci-Fi,IMAX   499549  19995.0   \n",
       "7472  Action,Adventure,Sci-Fi,IMAX  1104001  20526.0   \n",
       "7911  Action,Adventure,Sci-Fi,IMAX   948470   1930.0   \n",
       "8270  Action,Adventure,Sci-Fi,IMAX  1731141  80274.0   \n",
       "\n",
       "                                                     g2  \\\n",
       "3828  [{'id': 12, 'name': 'Adventure'}, {'id': 28, '...   \n",
       "5260  [{'id': 28, 'name': 'Action'}, {'id': 12, 'nam...   \n",
       "6230  [{'id': 12, 'name': 'Adventure'}, {'id': 14, '...   \n",
       "7007  [{'id': 878, 'name': 'Science Fiction'}, {'id'...   \n",
       "7053  [{'id': 878, 'name': 'Science Fiction'}, {'id'...   \n",
       "7201  [{'id': 28, 'name': 'Action'}, {'id': 12, 'nam...   \n",
       "7472  [{'id': 12, 'name': 'Adventure'}, {'id': 28, '...   \n",
       "7911  [{'id': 28, 'name': 'Action'}, {'id': 12, 'nam...   \n",
       "8270  [{'id': 878, 'name': 'Science Fiction'}, {'id'...   \n",
       "\n",
       "                                               overview  \\\n",
       "3828  Ten years after the invasion of Naboo, the gal...   \n",
       "5260  Peter Parker is going through a major identity...   \n",
       "6230  Superman returns to discover his 5-year absenc...   \n",
       "7007  The fate of the galaxy rests in the hands of b...   \n",
       "7053  Sam Witwicky leaves the Autobots behind for a ...   \n",
       "7201  In the 22nd century, a paraplegic Marine is di...   \n",
       "7472  Sam Flynn, the tech-savvy and daring son of Ke...   \n",
       "7911  Peter Parker is an outcast high schooler aband...   \n",
       "8270  Based on the classic novel by Orson Scott Card...   \n",
       "\n",
       "                           poster_path  \\\n",
       "3828  /2vcNFtrZXNwIcBgH5e2xXCmVR8t.jpg   \n",
       "5260   /qtBFrsEQ4oXW8sKvRxkKnYuPLg.jpg   \n",
       "6230  /e3aLTaD5ppxo3en0GAGceekEPAe.jpg   \n",
       "7007  /6V0CY7pwdDOCDS2XqNWahmIlVYh.jpg   \n",
       "7053  /kVISXAXDYhjQCfu50QZeCCzzbPv.jpg   \n",
       "7201  /kmcqlZGaSh20zpTbuoF0Cdn07dT.jpg   \n",
       "7472  /vllvystwQjmXzy5OvBKnGl1JREF.jpg   \n",
       "7911  /eA2D86Y6VPWuUzZyatiLBwpTilQ.jpg   \n",
       "8270  /vuZ8uSqyOM5698yNraF7OJRM3mS.jpg   \n",
       "\n",
       "                                                tagline  \n",
       "3828  A Jedi Shall Not Know Anger. Nor Hatred. Nor L...  \n",
       "5260                       There's a hero in all of us.  \n",
       "6230                                                NaN  \n",
       "7007                                 The future begins.  \n",
       "7053                                 Revenge is coming.  \n",
       "7201                        Enter the World of Pandora.  \n",
       "7472                              The Game Has Changed.  \n",
       "7911                           The untold story begins.  \n",
       "8270                                This is not a game.  "
      ]
     },
     "metadata": {},
     "output_type": "display_data"
    }
   ],
   "source": [
    "display(movies.loc[movies['movieId'].isin(similar_items)])"
   ]
  },
  {
   "cell_type": "code",
   "execution_count": null,
   "id": "6a058c43",
   "metadata": {},
   "outputs": [],
   "source": [
    "'''\n",
    "<============== collaborative filtering recommendations ==============>\n",
    "'''"
   ]
  },
  {
   "cell_type": "code",
   "execution_count": 54,
   "id": "7c93d73b",
   "metadata": {},
   "outputs": [],
   "source": [
    "from scipy.sparse import csr_matrix\n",
    "from sklearn.metrics.pairwise import cosine_similarity"
   ]
  },
  {
   "cell_type": "code",
   "execution_count": 55,
   "id": "98531b9f",
   "metadata": {},
   "outputs": [
    {
     "name": "stdout",
     "output_type": "stream",
     "text": [
      "<class 'pandas.core.frame.DataFrame'>\n",
      "RangeIndex: 10000 entries, 0 to 9999\n",
      "Data columns (total 3 columns):\n",
      " #   Column   Non-Null Count  Dtype  \n",
      "---  ------   --------------  -----  \n",
      " 0   userId   10000 non-null  int64  \n",
      " 1   movieId  10000 non-null  int64  \n",
      " 2   rating   10000 non-null  float64\n",
      "dtypes: float64(1), int64(2)\n",
      "memory usage: 234.5 KB\n"
     ]
    }
   ],
   "source": [
    "ratings.info()"
   ]
  },
  {
   "cell_type": "code",
   "execution_count": 56,
   "id": "f6197d0e",
   "metadata": {
    "scrolled": true
   },
   "outputs": [
    {
     "ename": "ValueError",
     "evalue": "column index exceeds matrix dimensions",
     "output_type": "error",
     "traceback": [
      "\u001b[1;31m---------------------------------------------------------------------------\u001b[0m",
      "\u001b[1;31mValueError\u001b[0m                                Traceback (most recent call last)",
      "\u001b[1;32m~\\AppData\\Local\\Temp/ipykernel_9140/2879843211.py\u001b[0m in \u001b[0;36m<module>\u001b[1;34m\u001b[0m\n\u001b[0;32m      8\u001b[0m \u001b[1;33m\u001b[0m\u001b[0m\n\u001b[0;32m      9\u001b[0m \u001b[1;31m# init user-item matrix\u001b[0m\u001b[1;33m\u001b[0m\u001b[1;33m\u001b[0m\u001b[0m\n\u001b[1;32m---> 10\u001b[1;33m \u001b[0mmat\u001b[0m \u001b[1;33m=\u001b[0m \u001b[0mcsr_matrix\u001b[0m\u001b[1;33m(\u001b[0m\u001b[1;33m(\u001b[0m\u001b[0mdata\u001b[0m\u001b[1;33m,\u001b[0m \u001b[1;33m(\u001b[0m\u001b[0mrow\u001b[0m\u001b[1;33m,\u001b[0m \u001b[0mcol\u001b[0m\u001b[1;33m)\u001b[0m\u001b[1;33m)\u001b[0m\u001b[1;33m,\u001b[0m \u001b[0mshape\u001b[0m\u001b[1;33m=\u001b[0m\u001b[1;33m(\u001b[0m\u001b[0mNUM_ITEMS\u001b[0m\u001b[1;33m,\u001b[0m \u001b[0mNUM_ITEMS\u001b[0m\u001b[1;33m)\u001b[0m\u001b[1;33m)\u001b[0m\u001b[1;33m\u001b[0m\u001b[1;33m\u001b[0m\u001b[0m\n\u001b[0m\u001b[0;32m     11\u001b[0m \u001b[0mmat\u001b[0m\u001b[1;33m.\u001b[0m\u001b[0meliminate_zeros\u001b[0m\u001b[1;33m(\u001b[0m\u001b[1;33m)\u001b[0m\u001b[1;33m\u001b[0m\u001b[1;33m\u001b[0m\u001b[0m\n",
      "\u001b[1;32m~\\anaconda3\\lib\\site-packages\\scipy\\sparse\\compressed.py\u001b[0m in \u001b[0;36m__init__\u001b[1;34m(self, arg1, shape, dtype, copy)\u001b[0m\n\u001b[0;32m     52\u001b[0m                     \u001b[1;31m# (data, ij) format\u001b[0m\u001b[1;33m\u001b[0m\u001b[1;33m\u001b[0m\u001b[0m\n\u001b[0;32m     53\u001b[0m                     \u001b[1;32mfrom\u001b[0m \u001b[1;33m.\u001b[0m\u001b[0mcoo\u001b[0m \u001b[1;32mimport\u001b[0m \u001b[0mcoo_matrix\u001b[0m\u001b[1;33m\u001b[0m\u001b[1;33m\u001b[0m\u001b[0m\n\u001b[1;32m---> 54\u001b[1;33m                     other = self.__class__(coo_matrix(arg1, shape=shape,\n\u001b[0m\u001b[0;32m     55\u001b[0m                                                       dtype=dtype))\n\u001b[0;32m     56\u001b[0m                     \u001b[0mself\u001b[0m\u001b[1;33m.\u001b[0m\u001b[0m_set_self\u001b[0m\u001b[1;33m(\u001b[0m\u001b[0mother\u001b[0m\u001b[1;33m)\u001b[0m\u001b[1;33m\u001b[0m\u001b[1;33m\u001b[0m\u001b[0m\n",
      "\u001b[1;32m~\\anaconda3\\lib\\site-packages\\scipy\\sparse\\coo.py\u001b[0m in \u001b[0;36m__init__\u001b[1;34m(self, arg1, shape, dtype, copy)\u001b[0m\n\u001b[0;32m    194\u001b[0m             \u001b[0mself\u001b[0m\u001b[1;33m.\u001b[0m\u001b[0mdata\u001b[0m \u001b[1;33m=\u001b[0m \u001b[0mself\u001b[0m\u001b[1;33m.\u001b[0m\u001b[0mdata\u001b[0m\u001b[1;33m.\u001b[0m\u001b[0mastype\u001b[0m\u001b[1;33m(\u001b[0m\u001b[0mdtype\u001b[0m\u001b[1;33m,\u001b[0m \u001b[0mcopy\u001b[0m\u001b[1;33m=\u001b[0m\u001b[1;32mFalse\u001b[0m\u001b[1;33m)\u001b[0m\u001b[1;33m\u001b[0m\u001b[1;33m\u001b[0m\u001b[0m\n\u001b[0;32m    195\u001b[0m \u001b[1;33m\u001b[0m\u001b[0m\n\u001b[1;32m--> 196\u001b[1;33m         \u001b[0mself\u001b[0m\u001b[1;33m.\u001b[0m\u001b[0m_check\u001b[0m\u001b[1;33m(\u001b[0m\u001b[1;33m)\u001b[0m\u001b[1;33m\u001b[0m\u001b[1;33m\u001b[0m\u001b[0m\n\u001b[0m\u001b[0;32m    197\u001b[0m \u001b[1;33m\u001b[0m\u001b[0m\n\u001b[0;32m    198\u001b[0m     \u001b[1;32mdef\u001b[0m \u001b[0mreshape\u001b[0m\u001b[1;33m(\u001b[0m\u001b[0mself\u001b[0m\u001b[1;33m,\u001b[0m \u001b[1;33m*\u001b[0m\u001b[0margs\u001b[0m\u001b[1;33m,\u001b[0m \u001b[1;33m**\u001b[0m\u001b[0mkwargs\u001b[0m\u001b[1;33m)\u001b[0m\u001b[1;33m:\u001b[0m\u001b[1;33m\u001b[0m\u001b[1;33m\u001b[0m\u001b[0m\n",
      "\u001b[1;32m~\\anaconda3\\lib\\site-packages\\scipy\\sparse\\coo.py\u001b[0m in \u001b[0;36m_check\u001b[1;34m(self)\u001b[0m\n\u001b[0;32m    283\u001b[0m                 \u001b[1;32mraise\u001b[0m \u001b[0mValueError\u001b[0m\u001b[1;33m(\u001b[0m\u001b[1;34m'row index exceeds matrix dimensions'\u001b[0m\u001b[1;33m)\u001b[0m\u001b[1;33m\u001b[0m\u001b[1;33m\u001b[0m\u001b[0m\n\u001b[0;32m    284\u001b[0m             \u001b[1;32mif\u001b[0m \u001b[0mself\u001b[0m\u001b[1;33m.\u001b[0m\u001b[0mcol\u001b[0m\u001b[1;33m.\u001b[0m\u001b[0mmax\u001b[0m\u001b[1;33m(\u001b[0m\u001b[1;33m)\u001b[0m \u001b[1;33m>=\u001b[0m \u001b[0mself\u001b[0m\u001b[1;33m.\u001b[0m\u001b[0mshape\u001b[0m\u001b[1;33m[\u001b[0m\u001b[1;36m1\u001b[0m\u001b[1;33m]\u001b[0m\u001b[1;33m:\u001b[0m\u001b[1;33m\u001b[0m\u001b[1;33m\u001b[0m\u001b[0m\n\u001b[1;32m--> 285\u001b[1;33m                 \u001b[1;32mraise\u001b[0m \u001b[0mValueError\u001b[0m\u001b[1;33m(\u001b[0m\u001b[1;34m'column index exceeds matrix dimensions'\u001b[0m\u001b[1;33m)\u001b[0m\u001b[1;33m\u001b[0m\u001b[1;33m\u001b[0m\u001b[0m\n\u001b[0m\u001b[0;32m    286\u001b[0m             \u001b[1;32mif\u001b[0m \u001b[0mself\u001b[0m\u001b[1;33m.\u001b[0m\u001b[0mrow\u001b[0m\u001b[1;33m.\u001b[0m\u001b[0mmin\u001b[0m\u001b[1;33m(\u001b[0m\u001b[1;33m)\u001b[0m \u001b[1;33m<\u001b[0m \u001b[1;36m0\u001b[0m\u001b[1;33m:\u001b[0m\u001b[1;33m\u001b[0m\u001b[1;33m\u001b[0m\u001b[0m\n\u001b[0;32m    287\u001b[0m                 \u001b[1;32mraise\u001b[0m \u001b[0mValueError\u001b[0m\u001b[1;33m(\u001b[0m\u001b[1;34m'negative row index found'\u001b[0m\u001b[1;33m)\u001b[0m\u001b[1;33m\u001b[0m\u001b[1;33m\u001b[0m\u001b[0m\n",
      "\u001b[1;31mValueError\u001b[0m: column index exceeds matrix dimensions"
     ]
    }
   ],
   "source": [
    "# preprocess data\n",
    "row = ratings['userId']\n",
    "col = ratings['movieId']\n",
    "data = ratings['rating']\n",
    "\n",
    "# NUM_USERS = len(ratings['userId'].unique())\n",
    "NUM_ITEMS = len(ratings['movieId'].unique())\n",
    "\n",
    "# init user-item matrix\n",
    "mat = csr_matrix((data, (row, col)), shape=(NUM_ITEMS, NUM_ITEMS))\n",
    "mat.eliminate_zeros()"
   ]
  },
  {
   "cell_type": "code",
   "execution_count": 38,
   "id": "16e942bb",
   "metadata": {},
   "outputs": [
    {
     "name": "stdout",
     "output_type": "stream",
     "text": [
      "Sparsity: 0.09%. This means that 0.09% of the user-item ratings have a value.\n"
     ]
    }
   ],
   "source": [
    "\n",
    "# calculate sparsity\n",
    "sparsity = float(len(mat.nonzero()[0]))\n",
    "sparsity /= (mat.shape[0] * mat.shape[1])\n",
    "sparsity *= 100\n",
    "print(f'Sparsity: {sparsity:4.2f}%. This means that {sparsity:4.2f}% of the user-item ratings have a value.')"
   ]
  },
  {
   "cell_type": "code",
   "execution_count": 39,
   "id": "8dd65764",
   "metadata": {},
   "outputs": [
    {
     "ename": "MemoryError",
     "evalue": "Unable to allocate 279. GiB for an array with shape (193610, 193610) and data type float64",
     "output_type": "error",
     "traceback": [
      "\u001b[1;31m---------------------------------------------------------------------------\u001b[0m",
      "\u001b[1;31mMemoryError\u001b[0m                               Traceback (most recent call last)",
      "\u001b[1;32m~\\AppData\\Local\\Temp/ipykernel_12252/2452039892.py\u001b[0m in \u001b[0;36m<module>\u001b[1;34m\u001b[0m\n\u001b[0;32m      1\u001b[0m \u001b[1;31m# compute similarity\u001b[0m\u001b[1;33m\u001b[0m\u001b[1;33m\u001b[0m\u001b[0m\n\u001b[1;32m----> 2\u001b[1;33m \u001b[0mitem_corr_mat\u001b[0m \u001b[1;33m=\u001b[0m \u001b[0mcosine_similarity\u001b[0m\u001b[1;33m(\u001b[0m\u001b[0mmat\u001b[0m\u001b[1;33m.\u001b[0m\u001b[0mT\u001b[0m\u001b[1;33m)\u001b[0m\u001b[1;33m\u001b[0m\u001b[1;33m\u001b[0m\u001b[0m\n\u001b[0m\u001b[0;32m      3\u001b[0m \u001b[1;33m\u001b[0m\u001b[0m\n\u001b[0;32m      4\u001b[0m \u001b[1;31m# get top k item\u001b[0m\u001b[1;33m\u001b[0m\u001b[1;33m\u001b[0m\u001b[0m\n\u001b[0;32m      5\u001b[0m \u001b[0mprint\u001b[0m\u001b[1;33m(\u001b[0m\u001b[1;34m\"\\nThe top-k similar movie to item_id 99\"\u001b[0m\u001b[1;33m)\u001b[0m\u001b[1;33m\u001b[0m\u001b[1;33m\u001b[0m\u001b[0m\n",
      "\u001b[1;32m~\\anaconda3\\lib\\site-packages\\sklearn\\metrics\\pairwise.py\u001b[0m in \u001b[0;36mcosine_similarity\u001b[1;34m(X, Y, dense_output)\u001b[0m\n\u001b[0;32m   1186\u001b[0m         \u001b[0mY_normalized\u001b[0m \u001b[1;33m=\u001b[0m \u001b[0mnormalize\u001b[0m\u001b[1;33m(\u001b[0m\u001b[0mY\u001b[0m\u001b[1;33m,\u001b[0m \u001b[0mcopy\u001b[0m\u001b[1;33m=\u001b[0m\u001b[1;32mTrue\u001b[0m\u001b[1;33m)\u001b[0m\u001b[1;33m\u001b[0m\u001b[1;33m\u001b[0m\u001b[0m\n\u001b[0;32m   1187\u001b[0m \u001b[1;33m\u001b[0m\u001b[0m\n\u001b[1;32m-> 1188\u001b[1;33m     K = safe_sparse_dot(X_normalized, Y_normalized.T,\n\u001b[0m\u001b[0;32m   1189\u001b[0m                         dense_output=dense_output)\n\u001b[0;32m   1190\u001b[0m \u001b[1;33m\u001b[0m\u001b[0m\n",
      "\u001b[1;32m~\\anaconda3\\lib\\site-packages\\sklearn\\utils\\validation.py\u001b[0m in \u001b[0;36minner_f\u001b[1;34m(*args, **kwargs)\u001b[0m\n\u001b[0;32m     61\u001b[0m             \u001b[0mextra_args\u001b[0m \u001b[1;33m=\u001b[0m \u001b[0mlen\u001b[0m\u001b[1;33m(\u001b[0m\u001b[0margs\u001b[0m\u001b[1;33m)\u001b[0m \u001b[1;33m-\u001b[0m \u001b[0mlen\u001b[0m\u001b[1;33m(\u001b[0m\u001b[0mall_args\u001b[0m\u001b[1;33m)\u001b[0m\u001b[1;33m\u001b[0m\u001b[1;33m\u001b[0m\u001b[0m\n\u001b[0;32m     62\u001b[0m             \u001b[1;32mif\u001b[0m \u001b[0mextra_args\u001b[0m \u001b[1;33m<=\u001b[0m \u001b[1;36m0\u001b[0m\u001b[1;33m:\u001b[0m\u001b[1;33m\u001b[0m\u001b[1;33m\u001b[0m\u001b[0m\n\u001b[1;32m---> 63\u001b[1;33m                 \u001b[1;32mreturn\u001b[0m \u001b[0mf\u001b[0m\u001b[1;33m(\u001b[0m\u001b[1;33m*\u001b[0m\u001b[0margs\u001b[0m\u001b[1;33m,\u001b[0m \u001b[1;33m**\u001b[0m\u001b[0mkwargs\u001b[0m\u001b[1;33m)\u001b[0m\u001b[1;33m\u001b[0m\u001b[1;33m\u001b[0m\u001b[0m\n\u001b[0m\u001b[0;32m     64\u001b[0m \u001b[1;33m\u001b[0m\u001b[0m\n\u001b[0;32m     65\u001b[0m             \u001b[1;31m# extra_args > 0\u001b[0m\u001b[1;33m\u001b[0m\u001b[1;33m\u001b[0m\u001b[0m\n",
      "\u001b[1;32m~\\anaconda3\\lib\\site-packages\\sklearn\\utils\\extmath.py\u001b[0m in \u001b[0;36msafe_sparse_dot\u001b[1;34m(a, b, dense_output)\u001b[0m\n\u001b[0;32m    154\u001b[0m     if (sparse.issparse(a) and sparse.issparse(b)\n\u001b[0;32m    155\u001b[0m             and dense_output and hasattr(ret, \"toarray\")):\n\u001b[1;32m--> 156\u001b[1;33m         \u001b[1;32mreturn\u001b[0m \u001b[0mret\u001b[0m\u001b[1;33m.\u001b[0m\u001b[0mtoarray\u001b[0m\u001b[1;33m(\u001b[0m\u001b[1;33m)\u001b[0m\u001b[1;33m\u001b[0m\u001b[1;33m\u001b[0m\u001b[0m\n\u001b[0m\u001b[0;32m    157\u001b[0m     \u001b[1;32mreturn\u001b[0m \u001b[0mret\u001b[0m\u001b[1;33m\u001b[0m\u001b[1;33m\u001b[0m\u001b[0m\n\u001b[0;32m    158\u001b[0m \u001b[1;33m\u001b[0m\u001b[0m\n",
      "\u001b[1;32m~\\anaconda3\\lib\\site-packages\\scipy\\sparse\\compressed.py\u001b[0m in \u001b[0;36mtoarray\u001b[1;34m(self, order, out)\u001b[0m\n\u001b[0;32m   1029\u001b[0m         \u001b[1;32mif\u001b[0m \u001b[0mout\u001b[0m \u001b[1;32mis\u001b[0m \u001b[1;32mNone\u001b[0m \u001b[1;32mand\u001b[0m \u001b[0morder\u001b[0m \u001b[1;32mis\u001b[0m \u001b[1;32mNone\u001b[0m\u001b[1;33m:\u001b[0m\u001b[1;33m\u001b[0m\u001b[1;33m\u001b[0m\u001b[0m\n\u001b[0;32m   1030\u001b[0m             \u001b[0morder\u001b[0m \u001b[1;33m=\u001b[0m \u001b[0mself\u001b[0m\u001b[1;33m.\u001b[0m\u001b[0m_swap\u001b[0m\u001b[1;33m(\u001b[0m\u001b[1;34m'cf'\u001b[0m\u001b[1;33m)\u001b[0m\u001b[1;33m[\u001b[0m\u001b[1;36m0\u001b[0m\u001b[1;33m]\u001b[0m\u001b[1;33m\u001b[0m\u001b[1;33m\u001b[0m\u001b[0m\n\u001b[1;32m-> 1031\u001b[1;33m         \u001b[0mout\u001b[0m \u001b[1;33m=\u001b[0m \u001b[0mself\u001b[0m\u001b[1;33m.\u001b[0m\u001b[0m_process_toarray_args\u001b[0m\u001b[1;33m(\u001b[0m\u001b[0morder\u001b[0m\u001b[1;33m,\u001b[0m \u001b[0mout\u001b[0m\u001b[1;33m)\u001b[0m\u001b[1;33m\u001b[0m\u001b[1;33m\u001b[0m\u001b[0m\n\u001b[0m\u001b[0;32m   1032\u001b[0m         \u001b[1;32mif\u001b[0m \u001b[1;32mnot\u001b[0m \u001b[1;33m(\u001b[0m\u001b[0mout\u001b[0m\u001b[1;33m.\u001b[0m\u001b[0mflags\u001b[0m\u001b[1;33m.\u001b[0m\u001b[0mc_contiguous\u001b[0m \u001b[1;32mor\u001b[0m \u001b[0mout\u001b[0m\u001b[1;33m.\u001b[0m\u001b[0mflags\u001b[0m\u001b[1;33m.\u001b[0m\u001b[0mf_contiguous\u001b[0m\u001b[1;33m)\u001b[0m\u001b[1;33m:\u001b[0m\u001b[1;33m\u001b[0m\u001b[1;33m\u001b[0m\u001b[0m\n\u001b[0;32m   1033\u001b[0m             \u001b[1;32mraise\u001b[0m \u001b[0mValueError\u001b[0m\u001b[1;33m(\u001b[0m\u001b[1;34m'Output array must be C or F contiguous'\u001b[0m\u001b[1;33m)\u001b[0m\u001b[1;33m\u001b[0m\u001b[1;33m\u001b[0m\u001b[0m\n",
      "\u001b[1;32m~\\anaconda3\\lib\\site-packages\\scipy\\sparse\\base.py\u001b[0m in \u001b[0;36m_process_toarray_args\u001b[1;34m(self, order, out)\u001b[0m\n\u001b[0;32m   1200\u001b[0m             \u001b[1;32mreturn\u001b[0m \u001b[0mout\u001b[0m\u001b[1;33m\u001b[0m\u001b[1;33m\u001b[0m\u001b[0m\n\u001b[0;32m   1201\u001b[0m         \u001b[1;32melse\u001b[0m\u001b[1;33m:\u001b[0m\u001b[1;33m\u001b[0m\u001b[1;33m\u001b[0m\u001b[0m\n\u001b[1;32m-> 1202\u001b[1;33m             \u001b[1;32mreturn\u001b[0m \u001b[0mnp\u001b[0m\u001b[1;33m.\u001b[0m\u001b[0mzeros\u001b[0m\u001b[1;33m(\u001b[0m\u001b[0mself\u001b[0m\u001b[1;33m.\u001b[0m\u001b[0mshape\u001b[0m\u001b[1;33m,\u001b[0m \u001b[0mdtype\u001b[0m\u001b[1;33m=\u001b[0m\u001b[0mself\u001b[0m\u001b[1;33m.\u001b[0m\u001b[0mdtype\u001b[0m\u001b[1;33m,\u001b[0m \u001b[0morder\u001b[0m\u001b[1;33m=\u001b[0m\u001b[0morder\u001b[0m\u001b[1;33m)\u001b[0m\u001b[1;33m\u001b[0m\u001b[1;33m\u001b[0m\u001b[0m\n\u001b[0m\u001b[0;32m   1203\u001b[0m \u001b[1;33m\u001b[0m\u001b[0m\n\u001b[0;32m   1204\u001b[0m \u001b[1;33m\u001b[0m\u001b[0m\n",
      "\u001b[1;31mMemoryError\u001b[0m: Unable to allocate 279. GiB for an array with shape (193610, 193610) and data type float64"
     ]
    }
   ],
   "source": [
    "\n",
    "# compute similarity\n",
    "item_corr_mat = cosine_similarity(mat.T)\n",
    "\n",
    "# get top k item\n",
    "print(\"\\nThe top-k similar movie to item_id 99\")\n",
    "similar_items = top_k_items(name2ind['99'],\n",
    "                            top_k = 10,\n",
    "                            corr_mat = item_corr_mat,\n",
    "                            map_name = ind2name)\n",
    "\n",
    "display(items.loc[items[ITEM_COL].isin(similar_items)])"
   ]
  },
  {
   "cell_type": "code",
   "execution_count": null,
   "id": "077aea13",
   "metadata": {},
   "outputs": [],
   "source": []
  }
 ],
 "metadata": {
  "kernelspec": {
   "display_name": "Python 3 (ipykernel)",
   "language": "python",
   "name": "python3"
  },
  "language_info": {
   "codemirror_mode": {
    "name": "ipython",
    "version": 3
   },
   "file_extension": ".py",
   "mimetype": "text/x-python",
   "name": "python",
   "nbconvert_exporter": "python",
   "pygments_lexer": "ipython3",
   "version": "3.9.7"
  }
 },
 "nbformat": 4,
 "nbformat_minor": 5
}
