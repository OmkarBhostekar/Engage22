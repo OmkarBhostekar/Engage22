{
 "cells": [
  {
   "cell_type": "code",
   "execution_count": 1,
   "id": "38db313e",
   "metadata": {},
   "outputs": [],
   "source": [
    "import numpy as np\n",
    "import pandas as pd\n",
    "import matplotlib.pyplot as plt\n",
    "import seaborn as sns\n",
    "import gc"
   ]
  },
  {
   "cell_type": "code",
   "execution_count": 2,
   "id": "7b857749",
   "metadata": {},
   "outputs": [],
   "source": [
    "ratings = pd.read_csv('ratings.csv')\n",
    "movies = pd.read_csv('movies.csv')\n",
    "tags = pd.read_csv('tags.csv')\n",
    "ids = pd.read_csv('links.csv')"
   ]
  },
  {
   "cell_type": "code",
   "execution_count": 3,
   "id": "59c2111e",
   "metadata": {},
   "outputs": [],
   "source": [
    "movies = movies.merge(ids,left_on='movieId',right_on='movieId')"
   ]
  },
  {
   "cell_type": "code",
   "execution_count": 4,
   "id": "051e6a3b",
   "metadata": {},
   "outputs": [],
   "source": [
    "movies['genres'] = movies['genres'].apply(lambda x: x.replace('|',','))"
   ]
  },
  {
   "cell_type": "code",
   "execution_count": null,
   "id": "411920b3",
   "metadata": {},
   "outputs": [],
   "source": [
    "'''\n",
    "<============== top rated recommendations ==============>\n",
    "'''"
   ]
  },
  {
   "cell_type": "code",
   "execution_count": 5,
   "id": "ee7137a9",
   "metadata": {},
   "outputs": [],
   "source": [
    "def weighted_rating(v,m,R,C):\n",
    "    '''\n",
    "    Calculate the weighted rating\n",
    "    \n",
    "    v -> average rating for each item (float)\n",
    "    m -> minimum votes required to be classified as popular (float)\n",
    "    R -> average rating for the item (pd.Series)\n",
    "    C -> average rating for the whole dataset (pd.Series)\n",
    "    '''\n",
    "    return ( (v / (v + m)) * R) + ( (m / (v + m)) * C )"
   ]
  },
  {
   "cell_type": "code",
   "execution_count": 6,
   "id": "8c491190",
   "metadata": {},
   "outputs": [],
   "source": [
    "def get_highly_rated(rating_df, item_df):\n",
    "    \n",
    "    # pre processing\n",
    "    vote_count = (\n",
    "        rating_df\n",
    "        .groupby('movieId',as_index=False)\n",
    "        .agg( {'userId':'count', 'rating':'mean'} )\n",
    "        )\n",
    "    vote_count.columns = ['movieId', 'vote_count', 'avg_rating']\n",
    "    \n",
    "    # calcuate input parameters\n",
    "    C = np.mean(vote_count['avg_rating'])\n",
    "    m = np.percentile(vote_count['vote_count'], 70)\n",
    "    vote_count = vote_count[vote_count['vote_count'] >= m]\n",
    "    R = vote_count['avg_rating']\n",
    "    v = vote_count['vote_count']\n",
    "    vote_count['weighted_rating'] = weighted_rating(v,m,R,C)\n",
    "    \n",
    "    # post processing\n",
    "    vote_count = vote_count.merge(item_df, on = ['movieId'], how = 'left')\n",
    "    popular_items = vote_count.loc[:,['movieId', 'genres', 'vote_count', 'avg_rating', 'weighted_rating']]\n",
    "    popular_items = popular_items.sort_values('weighted_rating',ascending=False)\n",
    "    popular_items = popular_items.head(10)\n",
    "    return popular_items"
   ]
  },
  {
   "cell_type": "code",
   "execution_count": 7,
   "id": "9c167618",
   "metadata": {},
   "outputs": [
    {
     "data": {
      "text/html": [
       "<div>\n",
       "<style scoped>\n",
       "    .dataframe tbody tr th:only-of-type {\n",
       "        vertical-align: middle;\n",
       "    }\n",
       "\n",
       "    .dataframe tbody tr th {\n",
       "        vertical-align: top;\n",
       "    }\n",
       "\n",
       "    .dataframe thead th {\n",
       "        text-align: right;\n",
       "    }\n",
       "</style>\n",
       "<table border=\"1\" class=\"dataframe\">\n",
       "  <thead>\n",
       "    <tr style=\"text-align: right;\">\n",
       "      <th></th>\n",
       "      <th>movieId</th>\n",
       "      <th>genres</th>\n",
       "      <th>vote_count</th>\n",
       "      <th>avg_rating</th>\n",
       "      <th>weighted_rating</th>\n",
       "    </tr>\n",
       "  </thead>\n",
       "  <tbody>\n",
       "    <tr>\n",
       "      <th>183</th>\n",
       "      <td>318</td>\n",
       "      <td>Crime,Drama</td>\n",
       "      <td>317</td>\n",
       "      <td>4.429022</td>\n",
       "      <td>4.403818</td>\n",
       "    </tr>\n",
       "    <tr>\n",
       "      <th>408</th>\n",
       "      <td>858</td>\n",
       "      <td>Crime,Drama</td>\n",
       "      <td>192</td>\n",
       "      <td>4.289062</td>\n",
       "      <td>4.252950</td>\n",
       "    </tr>\n",
       "    <tr>\n",
       "      <th>1276</th>\n",
       "      <td>2959</td>\n",
       "      <td>Action,Crime,Drama,Thriller</td>\n",
       "      <td>218</td>\n",
       "      <td>4.272936</td>\n",
       "      <td>4.241498</td>\n",
       "    </tr>\n",
       "    <tr>\n",
       "      <th>569</th>\n",
       "      <td>1221</td>\n",
       "      <td>Crime,Drama</td>\n",
       "      <td>129</td>\n",
       "      <td>4.259690</td>\n",
       "      <td>4.208361</td>\n",
       "    </tr>\n",
       "    <tr>\n",
       "      <th>42</th>\n",
       "      <td>50</td>\n",
       "      <td>Crime,Mystery,Thriller</td>\n",
       "      <td>204</td>\n",
       "      <td>4.237745</td>\n",
       "      <td>4.205389</td>\n",
       "    </tr>\n",
       "    <tr>\n",
       "      <th>152</th>\n",
       "      <td>260</td>\n",
       "      <td>Action,Adventure,Sci-Fi</td>\n",
       "      <td>251</td>\n",
       "      <td>4.231076</td>\n",
       "      <td>4.204795</td>\n",
       "    </tr>\n",
       "    <tr>\n",
       "      <th>374</th>\n",
       "      <td>750</td>\n",
       "      <td>Comedy,War</td>\n",
       "      <td>97</td>\n",
       "      <td>4.268041</td>\n",
       "      <td>4.200357</td>\n",
       "    </tr>\n",
       "    <tr>\n",
       "      <th>561</th>\n",
       "      <td>1213</td>\n",
       "      <td>Crime,Drama</td>\n",
       "      <td>126</td>\n",
       "      <td>4.250000</td>\n",
       "      <td>4.198024</td>\n",
       "    </tr>\n",
       "    <tr>\n",
       "      <th>294</th>\n",
       "      <td>527</td>\n",
       "      <td>Drama,War</td>\n",
       "      <td>220</td>\n",
       "      <td>4.225000</td>\n",
       "      <td>4.195318</td>\n",
       "    </tr>\n",
       "    <tr>\n",
       "      <th>2480</th>\n",
       "      <td>58559</td>\n",
       "      <td>Action,Crime,Drama,IMAX</td>\n",
       "      <td>149</td>\n",
       "      <td>4.238255</td>\n",
       "      <td>4.194469</td>\n",
       "    </tr>\n",
       "  </tbody>\n",
       "</table>\n",
       "</div>"
      ],
      "text/plain": [
       "      movieId                       genres  vote_count  avg_rating  \\\n",
       "183       318                  Crime,Drama         317    4.429022   \n",
       "408       858                  Crime,Drama         192    4.289062   \n",
       "1276     2959  Action,Crime,Drama,Thriller         218    4.272936   \n",
       "569      1221                  Crime,Drama         129    4.259690   \n",
       "42         50       Crime,Mystery,Thriller         204    4.237745   \n",
       "152       260      Action,Adventure,Sci-Fi         251    4.231076   \n",
       "374       750                   Comedy,War          97    4.268041   \n",
       "561      1213                  Crime,Drama         126    4.250000   \n",
       "294       527                    Drama,War         220    4.225000   \n",
       "2480    58559      Action,Crime,Drama,IMAX         149    4.238255   \n",
       "\n",
       "      weighted_rating  \n",
       "183          4.403818  \n",
       "408          4.252950  \n",
       "1276         4.241498  \n",
       "569          4.208361  \n",
       "42           4.205389  \n",
       "152          4.204795  \n",
       "374          4.200357  \n",
       "561          4.198024  \n",
       "294          4.195318  \n",
       "2480         4.194469  "
      ]
     },
     "execution_count": 7,
     "metadata": {},
     "output_type": "execute_result"
    }
   ],
   "source": [
    "get_highly_rated(ratings,movies)"
   ]
  },
  {
   "cell_type": "code",
   "execution_count": 8,
   "id": "7dd29033",
   "metadata": {},
   "outputs": [],
   "source": [
    "'''\n",
    "<============== content based recommendations ==============>\n",
    "'''"
   ]
  },
  {
   "cell_type": "code",
   "execution_count": 9,
   "id": "6d4ff4c9",
   "metadata": {},
   "outputs": [],
   "source": [
    "from sklearn.metrics.pairwise import cosine_similarity"
   ]
  },
  {
   "cell_type": "code",
   "execution_count": 10,
   "id": "3ef5d744",
   "metadata": {},
   "outputs": [],
   "source": [
    "# preprocessing\n",
    "ratedMovies = movies.loc[movies['movieId'].isin(ratings['movieId'])].copy()"
   ]
  },
  {
   "cell_type": "code",
   "execution_count": 11,
   "id": "cc777845",
   "metadata": {},
   "outputs": [],
   "source": [
    "# extract the genre\n",
    "genre = ratedMovies['genres'].str.split(\",\", expand=True)\n",
    "\n",
    "# get all possible genre\n",
    "all_genre = set()\n",
    "for c in genre.columns:\n",
    "    distinct_genre = genre[c].str.lower().str.strip().unique()\n",
    "    all_genre.update(distinct_genre)\n",
    "all_genre.remove(None)\n",
    "all_genre.remove('(no genres listed)')"
   ]
  },
  {
   "cell_type": "code",
   "execution_count": 12,
   "id": "2729d5a7",
   "metadata": {},
   "outputs": [],
   "source": [
    "# create item-genre matrix\n",
    "item_genre_mat = ratedMovies[['movieId', 'genres']].copy()\n",
    "item_genre_mat['genres'] = item_genre_mat['genres'].str.lower().str.strip()\n",
    "\n",
    "# OHE the genres column\n",
    "for genre in all_genre:\n",
    "    item_genre_mat[genre] = np.where(item_genre_mat['genres'].str.contains(genre), 1, 0)\n",
    "item_genre_mat = item_genre_mat.drop(['genres'], axis=1)\n",
    "item_genre_mat = item_genre_mat.set_index('movieId')\n",
    "\n",
    "# compute similarity matix\n",
    "corr_mat = cosine_similarity(item_genre_mat)"
   ]
  },
  {
   "cell_type": "code",
   "execution_count": 13,
   "id": "29930a4e",
   "metadata": {},
   "outputs": [],
   "source": [
    "def top_k_items(item_id, top_k, corr_mat, map_name):\n",
    "    \n",
    "    # sort correlation value ascendingly and select top_k item_id\n",
    "    top_items = corr_mat[item_id,:].argsort()[-top_k:][::-1] \n",
    "    top_items = [map_name[e] for e in top_items] \n",
    "\n",
    "    return top_items"
   ]
  },
  {
   "cell_type": "code",
   "execution_count": 14,
   "id": "1effbb8c",
   "metadata": {},
   "outputs": [],
   "source": [
    "# get top-k similar items\n",
    "ind2name = {ind:name for ind,name in enumerate(item_genre_mat.index)}\n",
    "name2ind = {v:k for k,v in ind2name.items()}"
   ]
  },
  {
   "cell_type": "code",
   "execution_count": 30,
   "id": "5ac6a243",
   "metadata": {},
   "outputs": [],
   "source": [
    "movieId = 110102"
   ]
  },
  {
   "cell_type": "code",
   "execution_count": 31,
   "id": "e992618e",
   "metadata": {},
   "outputs": [],
   "source": [
    "similar_items = top_k_items(name2ind[movieId],\n",
    "                            top_k = 10,\n",
    "                            corr_mat = corr_mat,\n",
    "                            map_name = ind2name)\n",
    "similar_items.remove(movieId)"
   ]
  },
  {
   "cell_type": "code",
   "execution_count": 32,
   "id": "b8bd81dc",
   "metadata": {},
   "outputs": [
    {
     "data": {
      "text/plain": [
       "[5378, 106487, 46530, 102445, 102880, 101864, 68358, 103228, 72998]"
      ]
     },
     "execution_count": 32,
     "metadata": {},
     "output_type": "execute_result"
    }
   ],
   "source": [
    "similar_items"
   ]
  },
  {
   "cell_type": "code",
   "execution_count": 33,
   "id": "92dd7b63",
   "metadata": {},
   "outputs": [
    {
     "data": {
      "text/html": [
       "<div>\n",
       "<style scoped>\n",
       "    .dataframe tbody tr th:only-of-type {\n",
       "        vertical-align: middle;\n",
       "    }\n",
       "\n",
       "    .dataframe tbody tr th {\n",
       "        vertical-align: top;\n",
       "    }\n",
       "\n",
       "    .dataframe thead th {\n",
       "        text-align: right;\n",
       "    }\n",
       "</style>\n",
       "<table border=\"1\" class=\"dataframe\">\n",
       "  <thead>\n",
       "    <tr style=\"text-align: right;\">\n",
       "      <th></th>\n",
       "      <th>movieId</th>\n",
       "      <th>title</th>\n",
       "      <th>genres</th>\n",
       "      <th>imdbId</th>\n",
       "      <th>tmdbId</th>\n",
       "    </tr>\n",
       "  </thead>\n",
       "  <tbody>\n",
       "    <tr>\n",
       "      <th>3832</th>\n",
       "      <td>5378</td>\n",
       "      <td>Star Wars: Episode II - Attack of the Clones (...</td>\n",
       "      <td>Action,Adventure,Sci-Fi,IMAX</td>\n",
       "      <td>121765</td>\n",
       "      <td>1894.0</td>\n",
       "    </tr>\n",
       "    <tr>\n",
       "      <th>6238</th>\n",
       "      <td>46530</td>\n",
       "      <td>Superman Returns (2006)</td>\n",
       "      <td>Action,Adventure,Sci-Fi,IMAX</td>\n",
       "      <td>348150</td>\n",
       "      <td>1452.0</td>\n",
       "    </tr>\n",
       "    <tr>\n",
       "      <th>7018</th>\n",
       "      <td>68358</td>\n",
       "      <td>Star Trek (2009)</td>\n",
       "      <td>Action,Adventure,Sci-Fi,IMAX</td>\n",
       "      <td>796366</td>\n",
       "      <td>13475.0</td>\n",
       "    </tr>\n",
       "    <tr>\n",
       "      <th>7212</th>\n",
       "      <td>72998</td>\n",
       "      <td>Avatar (2009)</td>\n",
       "      <td>Action,Adventure,Sci-Fi,IMAX</td>\n",
       "      <td>499549</td>\n",
       "      <td>19995.0</td>\n",
       "    </tr>\n",
       "    <tr>\n",
       "      <th>8137</th>\n",
       "      <td>101864</td>\n",
       "      <td>Oblivion (2013)</td>\n",
       "      <td>Action,Adventure,Sci-Fi,IMAX</td>\n",
       "      <td>1483013</td>\n",
       "      <td>75612.0</td>\n",
       "    </tr>\n",
       "    <tr>\n",
       "      <th>8159</th>\n",
       "      <td>102445</td>\n",
       "      <td>Star Trek Into Darkness (2013)</td>\n",
       "      <td>Action,Adventure,Sci-Fi,IMAX</td>\n",
       "      <td>1408101</td>\n",
       "      <td>54138.0</td>\n",
       "    </tr>\n",
       "    <tr>\n",
       "      <th>8178</th>\n",
       "      <td>102880</td>\n",
       "      <td>After Earth (2013)</td>\n",
       "      <td>Action,Adventure,Sci-Fi,IMAX</td>\n",
       "      <td>1815862</td>\n",
       "      <td>82700.0</td>\n",
       "    </tr>\n",
       "    <tr>\n",
       "      <th>8194</th>\n",
       "      <td>103228</td>\n",
       "      <td>Pacific Rim (2013)</td>\n",
       "      <td>Action,Adventure,Sci-Fi,IMAX</td>\n",
       "      <td>1663662</td>\n",
       "      <td>68726.0</td>\n",
       "    </tr>\n",
       "    <tr>\n",
       "      <th>8295</th>\n",
       "      <td>106487</td>\n",
       "      <td>The Hunger Games: Catching Fire (2013)</td>\n",
       "      <td>Action,Adventure,Sci-Fi,IMAX</td>\n",
       "      <td>1951264</td>\n",
       "      <td>101299.0</td>\n",
       "    </tr>\n",
       "  </tbody>\n",
       "</table>\n",
       "</div>"
      ],
      "text/plain": [
       "      movieId                                              title  \\\n",
       "3832     5378  Star Wars: Episode II - Attack of the Clones (...   \n",
       "6238    46530                            Superman Returns (2006)   \n",
       "7018    68358                                   Star Trek (2009)   \n",
       "7212    72998                                      Avatar (2009)   \n",
       "8137   101864                                    Oblivion (2013)   \n",
       "8159   102445                     Star Trek Into Darkness (2013)   \n",
       "8178   102880                                 After Earth (2013)   \n",
       "8194   103228                                 Pacific Rim (2013)   \n",
       "8295   106487             The Hunger Games: Catching Fire (2013)   \n",
       "\n",
       "                            genres   imdbId    tmdbId  \n",
       "3832  Action,Adventure,Sci-Fi,IMAX   121765    1894.0  \n",
       "6238  Action,Adventure,Sci-Fi,IMAX   348150    1452.0  \n",
       "7018  Action,Adventure,Sci-Fi,IMAX   796366   13475.0  \n",
       "7212  Action,Adventure,Sci-Fi,IMAX   499549   19995.0  \n",
       "8137  Action,Adventure,Sci-Fi,IMAX  1483013   75612.0  \n",
       "8159  Action,Adventure,Sci-Fi,IMAX  1408101   54138.0  \n",
       "8178  Action,Adventure,Sci-Fi,IMAX  1815862   82700.0  \n",
       "8194  Action,Adventure,Sci-Fi,IMAX  1663662   68726.0  \n",
       "8295  Action,Adventure,Sci-Fi,IMAX  1951264  101299.0  "
      ]
     },
     "metadata": {},
     "output_type": "display_data"
    }
   ],
   "source": [
    "display(movies.loc[movies['movieId'].isin(similar_items)])"
   ]
  },
  {
   "cell_type": "code",
   "execution_count": null,
   "id": "6a058c43",
   "metadata": {},
   "outputs": [],
   "source": []
  },
  {
   "cell_type": "code",
   "execution_count": null,
   "id": "7c93d73b",
   "metadata": {},
   "outputs": [],
   "source": []
  }
 ],
 "metadata": {
  "kernelspec": {
   "display_name": "Python 3 (ipykernel)",
   "language": "python",
   "name": "python3"
  },
  "language_info": {
   "codemirror_mode": {
    "name": "ipython",
    "version": 3
   },
   "file_extension": ".py",
   "mimetype": "text/x-python",
   "name": "python",
   "nbconvert_exporter": "python",
   "pygments_lexer": "ipython3",
   "version": "3.9.7"
  }
 },
 "nbformat": 4,
 "nbformat_minor": 5
}
