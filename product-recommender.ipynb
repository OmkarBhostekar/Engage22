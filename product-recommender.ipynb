{
 "cells": [
  {
   "cell_type": "code",
   "execution_count": 1,
   "id": "9de668f5",
   "metadata": {},
   "outputs": [],
   "source": [
    "import numpy as np\n",
    "import pandas as pd\n",
    "import ast"
   ]
  },
  {
   "cell_type": "code",
   "execution_count": 75,
   "id": "74058926",
   "metadata": {},
   "outputs": [],
   "source": [
    "products_raw = pd.read_csv('products.csv')"
   ]
  },
  {
   "cell_type": "code",
   "execution_count": 76,
   "id": "c76c3425",
   "metadata": {},
   "outputs": [],
   "source": [
    "products = products_raw[['uniq_id','product_name','category','description','brand']]"
   ]
  },
  {
   "cell_type": "code",
   "execution_count": 77,
   "id": "a366fd8b",
   "metadata": {},
   "outputs": [],
   "source": [
    "products.dropna(inplace=True)"
   ]
  },
  {
   "cell_type": "code",
   "execution_count": 91,
   "id": "dc5ddd39",
   "metadata": {},
   "outputs": [],
   "source": [
    "import more_itertools\n",
    "def convertCategory(obj):\n",
    "    obj = obj.split(\">>\")\n",
    "    str = \"\"\n",
    "    for i in obj:\n",
    "        x = ''.join(i.split())+\" \"\n",
    "        str += x\n",
    "    return str+\" \"\n",
    "\n",
    "def listToString(obj): \n",
    "    str1 = \"\" \n",
    "    print(type(obj))\n",
    "    ast.literal_eval(obj)\n",
    "    print(type(obj))\n",
    "    for ele in obj: \n",
    "        str1 += \" \".join(ele.split(\" \"))\n",
    "        \n",
    "    print(str1)\n",
    "    return str1 \n",
    "\n",
    "def processCategory(obj):\n",
    "    L = []\n",
    "    print(type(obj))\n",
    "    for i in obj:\n",
    "        x = listToString(i)\n",
    "        L.append(x)\n",
    "    return L"
   ]
  },
  {
   "cell_type": "code",
   "execution_count": 79,
   "id": "0dc6acf7",
   "metadata": {},
   "outputs": [
    {
     "name": "stderr",
     "output_type": "stream",
     "text": [
      "C:\\Users\\otbho\\AppData\\Local\\Temp/ipykernel_11256/1379820381.py:1: SettingWithCopyWarning: \n",
      "A value is trying to be set on a copy of a slice from a DataFrame.\n",
      "Try using .loc[row_indexer,col_indexer] = value instead\n",
      "\n",
      "See the caveats in the documentation: https://pandas.pydata.org/pandas-docs/stable/user_guide/indexing.html#returning-a-view-versus-a-copy\n",
      "  products['category'] = products['category'].apply(convertCategory)\n"
     ]
    }
   ],
   "source": [
    "products['category'] = products['category'].apply(convertCategory)"
   ]
  },
  {
   "cell_type": "code",
   "execution_count": 80,
   "id": "e2e30a9e",
   "metadata": {},
   "outputs": [
    {
     "name": "stderr",
     "output_type": "stream",
     "text": [
      "C:\\Users\\otbho\\AppData\\Local\\Temp/ipykernel_11256/2470640075.py:1: SettingWithCopyWarning: \n",
      "A value is trying to be set on a copy of a slice from a DataFrame.\n",
      "Try using .loc[row_indexer,col_indexer] = value instead\n",
      "\n",
      "See the caveats in the documentation: https://pandas.pydata.org/pandas-docs/stable/user_guide/indexing.html#returning-a-view-versus-a-copy\n",
      "  products['tags'] = products['category'] + products['description'] + \" \"+ products['brand']\n"
     ]
    }
   ],
   "source": [
    "products['tags'] = products['category'] + products['description'] + \" \"+ products['brand']"
   ]
  },
  {
   "cell_type": "code",
   "execution_count": 81,
   "id": "26396042",
   "metadata": {},
   "outputs": [
    {
     "data": {
      "text/plain": [
       "'[\"Clothing Women\\'sClothing Lingerie,Sleep&Swimwear Shorts AlishaShorts AlishaSolidWomen\\'sCyclingShorts\"]  Key Features of Alisha Solid Women\\'s Cycling Shorts Cotton Lycra Navy, Red, Navy,Specifications of Alisha Solid Women\\'s Cycling Shorts Shorts Details Number of Contents in Sales Package Pack of 3 Fabric Cotton Lycra Type Cycling Shorts General Details Pattern Solid Ideal For Women\\'s Fabric Care Gentle Machine Wash in Lukewarm Water, Do Not Bleach Additional Details Style Code ALTHT_3P_21 In the Box 3 shorts Alisha'"
      ]
     },
     "execution_count": 81,
     "metadata": {},
     "output_type": "execute_result"
    }
   ],
   "source": [
    "products.iloc[0]['tags']"
   ]
  },
  {
   "cell_type": "code",
   "execution_count": 92,
   "id": "7f0aa11e",
   "metadata": {},
   "outputs": [
    {
     "name": "stdout",
     "output_type": "stream",
     "text": [
      "<class 'str'>\n",
      "<class 'str'>\n",
      "[\"Clothing Women'sClothing Lingerie,Sleep&Swimwear Shorts AlishaShorts AlishaSolidWomen'sCyclingShorts\"]  \n"
     ]
    },
    {
     "data": {
      "text/plain": [
       "'[\"Clothing Women\\'sClothing Lingerie,Sleep&Swimwear Shorts AlishaShorts AlishaSolidWomen\\'sCyclingShorts\"]  '"
      ]
     },
     "execution_count": 92,
     "metadata": {},
     "output_type": "execute_result"
    }
   ],
   "source": [
    "listToString(products['category'][0])"
   ]
  },
  {
   "cell_type": "code",
   "execution_count": null,
   "id": "d4b8b70a",
   "metadata": {},
   "outputs": [],
   "source": []
  },
  {
   "cell_type": "code",
   "execution_count": null,
   "id": "40a08a74",
   "metadata": {},
   "outputs": [],
   "source": []
  }
 ],
 "metadata": {
  "kernelspec": {
   "display_name": "Python 3 (ipykernel)",
   "language": "python",
   "name": "python3"
  },
  "language_info": {
   "codemirror_mode": {
    "name": "ipython",
    "version": 3
   },
   "file_extension": ".py",
   "mimetype": "text/x-python",
   "name": "python",
   "nbconvert_exporter": "python",
   "pygments_lexer": "ipython3",
   "version": "3.9.7"
  }
 },
 "nbformat": 4,
 "nbformat_minor": 5
}
