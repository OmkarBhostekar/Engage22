{
 "cells": [
  {
   "cell_type": "code",
   "execution_count": 1,
   "id": "767b2a92",
   "metadata": {},
   "outputs": [],
   "source": [
    "import numpy as np\n",
    "import pandas as pd\n",
    "import matplotlib.pyplot as plt\n",
    "import seaborn as sns\n",
    "import gc\n",
    "import pickle"
   ]
  },
  {
   "cell_type": "code",
   "execution_count": 6,
   "id": "af192b9f",
   "metadata": {},
   "outputs": [],
   "source": [
    "ratings = pd.read_csv('dataset/ratings.csv')\n",
    "movies = pd.read_csv('dataset/movies_new.csv')"
   ]
  },
  {
   "cell_type": "code",
   "execution_count": 7,
   "id": "feec52a7",
   "metadata": {},
   "outputs": [],
   "source": [
    "movies['genres'] = movies['genres'].apply(lambda x: x.replace('|',','))"
   ]
  },
  {
   "cell_type": "code",
   "execution_count": 8,
   "id": "cb5bfa30",
   "metadata": {},
   "outputs": [],
   "source": [
    "m = movies['movieId']"
   ]
  },
  {
   "cell_type": "code",
   "execution_count": 3,
   "id": "bac361b1",
   "metadata": {},
   "outputs": [],
   "source": [
    "# for idx, x in enumerate(ratings['movieId']):\n",
    "#     if x not in m:\n",
    "#         ratings = ratings.drop(idx)  \n",
    "#         print(idx, x)"
   ]
  },
  {
   "cell_type": "code",
   "execution_count": 91,
   "id": "08355fd1",
   "metadata": {},
   "outputs": [],
   "source": []
  },
  {
   "cell_type": "code",
   "execution_count": null,
   "id": "406cf1e1",
   "metadata": {},
   "outputs": [],
   "source": [
    "import numpy as np\n",
    "import pandas as pd\n",
    "import matplotlib.pyplot as plt\n",
    "import seaborn as sns\n",
    "import gc\n",
    "\n",
    "from collections import defaultdict\n",
    "\n",
    "# synthesize data\n",
    "NUM_USERS = 100\n",
    "NUM_ITEMS = len()\n",
    "user_id = np.arange(start = 0, stop = NUM_USERS)\n",
    "item_id = np.arange(start = 0, stop = NUM_ITEMS)\n",
    "np.random.seed(42)\n",
    "\n",
    "user_item_dict = defaultdict(list)\n",
    "genres = ['Action','Comedy','Drama','Fantasy','Horror','Mystery','Romance','Thriller','Western']\n",
    "for id in user_id:\n",
    "    \n",
    "    # random the number of item generation\n",
    "    # for each user, random 3 to 5 items to be rated.\n",
    "    num_rand_item = np.random.randint(low = 3, high = 5)\n",
    "\n",
    "    # random from the item_id\n",
    "    rand_items = np.random.choice(item_id, size = num_rand_item, replace = False)\n",
    "\n",
    "    # random rating for each itme_id\n",
    "    rand_rating = np.random.randint(low = 1, high = 10, size = num_rand_item)\n",
    "\n",
    "    # collect the user-item paris.\n",
    "    for uid, iid,rating in zip([id] * num_rand_item, rand_items, rand_rating):\n",
    "        user_item_dict['user_id'].append(uid)\n",
    "        user_item_dict['item_id'].append(iid)\n",
    "        user_item_dict['rating'].append(rating)\n",
    "\n",
    "# prepare dataframe\n",
    "ratings = pd.DataFrame(user_item_dict)\n",
    "print(\"Rating Dataframe\")\n",
    "ratings[['user_id','item_id']] = ratings[['user_id','item_id']].astype(str)\n",
    "display(ratings.head())"
   ]
  }
 ],
 "metadata": {
  "kernelspec": {
   "display_name": "Python 3 (ipykernel)",
   "language": "python",
   "name": "python3"
  },
  "language_info": {
   "codemirror_mode": {
    "name": "ipython",
    "version": 3
   },
   "file_extension": ".py",
   "mimetype": "text/x-python",
   "name": "python",
   "nbconvert_exporter": "python",
   "pygments_lexer": "ipython3",
   "version": "3.9.7"
  }
 },
 "nbformat": 4,
 "nbformat_minor": 5
}
