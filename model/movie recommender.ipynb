{
 "cells": [
  {
   "cell_type": "code",
   "execution_count": 4,
   "id": "38db313e",
   "metadata": {},
   "outputs": [],
   "source": [
    "import numpy as np\n",
    "import pandas as pd\n",
    "import matplotlib.pyplot as plt\n",
    "import seaborn as sns\n",
    "import gc"
   ]
  },
  {
   "cell_type": "code",
   "execution_count": 5,
   "id": "7b857749",
   "metadata": {},
   "outputs": [],
   "source": [
    "ratings = pd.read_csv('ratings.csv')\n",
    "movies = pd.read_csv('movies.csv')\n",
    "tags = pd.read_csv('tags.csv')"
   ]
  },
  {
   "cell_type": "code",
   "execution_count": 8,
   "id": "051e6a3b",
   "metadata": {},
   "outputs": [],
   "source": [
    "movies['genres'] = movies['genres'].apply(lambda x: x.replace('|',','))"
   ]
  },
  {
   "cell_type": "code",
   "execution_count": 9,
   "id": "411920b3",
   "metadata": {},
   "outputs": [
    {
     "data": {
      "text/plain": [
       "'\\n<============== top rated recommendations ==============>\\n'"
      ]
     },
     "execution_count": 9,
     "metadata": {},
     "output_type": "execute_result"
    }
   ],
   "source": [
    "'''\n",
    "<============== top rated recommendations ==============>\n",
    "'''"
   ]
  },
  {
   "cell_type": "code",
   "execution_count": 10,
   "id": "ee7137a9",
   "metadata": {},
   "outputs": [],
   "source": [
    "def weighted_rating(v,m,R,C):\n",
    "    '''\n",
    "    Calculate the weighted rating\n",
    "    \n",
    "    v -> average rating for each item (float)\n",
    "    m -> minimum votes required to be classified as popular (float)\n",
    "    R -> average rating for the item (pd.Series)\n",
    "    C -> average rating for the whole dataset (pd.Series)\n",
    "    '''\n",
    "    return ( (v / (v + m)) * R) + ( (m / (v + m)) * C )"
   ]
  },
  {
   "cell_type": "code",
   "execution_count": 157,
   "id": "8c491190",
   "metadata": {},
   "outputs": [],
   "source": [
    "def get_highly_rated(rating_df, item_df):\n",
    "    \n",
    "    # pre processing\n",
    "    vote_count = (\n",
    "        rating_df\n",
    "        .groupby('movieId',as_index=False)\n",
    "        .agg( {'userId':'count', 'rating':'mean'} )\n",
    "        )\n",
    "    vote_count.columns = ['movieId', 'vote_count', 'avg_rating']\n",
    "    \n",
    "    # calcuate input parameters\n",
    "    C = np.mean(vote_count['avg_rating'])\n",
    "    m = np.percentile(vote_count['vote_count'], 70)\n",
    "    vote_count = vote_count[vote_count['vote_count'] >= m]\n",
    "    R = vote_count['avg_rating']\n",
    "    v = vote_count['vote_count']\n",
    "    vote_count['weighted_rating'] = weighted_rating(v,m,R,C)\n",
    "    \n",
    "    # post processing\n",
    "    vote_count = vote_count.merge(item_df, on = ['movieId'], how = 'left')\n",
    "    popular_items = vote_count.loc[:,['movieId','title', 'genres', 'overview','poster_path','vote_count', 'avg_rating', 'weighted_rating']]\n",
    "    popular_items = popular_items.sort_values('weighted_rating',ascending=False)\n",
    "    popular_items = popular_items.head(10)\n",
    "    return popular_items"
   ]
  },
  {
   "cell_type": "code",
   "execution_count": 158,
   "id": "9c167618",
   "metadata": {},
   "outputs": [
    {
     "data": {
      "text/html": [
       "<div>\n",
       "<style scoped>\n",
       "    .dataframe tbody tr th:only-of-type {\n",
       "        vertical-align: middle;\n",
       "    }\n",
       "\n",
       "    .dataframe tbody tr th {\n",
       "        vertical-align: top;\n",
       "    }\n",
       "\n",
       "    .dataframe thead th {\n",
       "        text-align: right;\n",
       "    }\n",
       "</style>\n",
       "<table border=\"1\" class=\"dataframe\">\n",
       "  <thead>\n",
       "    <tr style=\"text-align: right;\">\n",
       "      <th></th>\n",
       "      <th>movieId</th>\n",
       "      <th>title</th>\n",
       "      <th>genres</th>\n",
       "      <th>overview</th>\n",
       "      <th>poster_path</th>\n",
       "      <th>vote_count</th>\n",
       "      <th>avg_rating</th>\n",
       "      <th>weighted_rating</th>\n",
       "    </tr>\n",
       "  </thead>\n",
       "  <tbody>\n",
       "    <tr>\n",
       "      <th>183</th>\n",
       "      <td>318</td>\n",
       "      <td>Shawshank Redemption, The (1994)</td>\n",
       "      <td>Crime,Drama</td>\n",
       "      <td>Framed in the 1940s for the double murder of h...</td>\n",
       "      <td>/9O7gLzmreU0nGkIB6K3BsJbzvNv.jpg</td>\n",
       "      <td>317</td>\n",
       "      <td>4.429022</td>\n",
       "      <td>4.403818</td>\n",
       "    </tr>\n",
       "    <tr>\n",
       "      <th>408</th>\n",
       "      <td>858</td>\n",
       "      <td>Godfather, The (1972)</td>\n",
       "      <td>Crime,Drama</td>\n",
       "      <td>Spanning the years 1945 to 1955, a chronicle o...</td>\n",
       "      <td>/rPdtLWNsZmAtoZl9PK7S2wE3qiS.jpg</td>\n",
       "      <td>192</td>\n",
       "      <td>4.289062</td>\n",
       "      <td>4.252950</td>\n",
       "    </tr>\n",
       "    <tr>\n",
       "      <th>1276</th>\n",
       "      <td>2959</td>\n",
       "      <td>Fight Club (1999)</td>\n",
       "      <td>Action,Crime,Drama,Thriller</td>\n",
       "      <td>A ticking-time-bomb insomniac and a slippery s...</td>\n",
       "      <td>/adw6Lq9FiC9zjYEpOqfq03ituwp.jpg</td>\n",
       "      <td>218</td>\n",
       "      <td>4.272936</td>\n",
       "      <td>4.241498</td>\n",
       "    </tr>\n",
       "    <tr>\n",
       "      <th>569</th>\n",
       "      <td>1221</td>\n",
       "      <td>Godfather: Part II, The (1974)</td>\n",
       "      <td>Crime,Drama</td>\n",
       "      <td>In the continuing saga of the Corleone crime f...</td>\n",
       "      <td>/bVq65huQ8vHDd1a4Z37QtuyEvpA.jpg</td>\n",
       "      <td>129</td>\n",
       "      <td>4.259690</td>\n",
       "      <td>4.208361</td>\n",
       "    </tr>\n",
       "    <tr>\n",
       "      <th>42</th>\n",
       "      <td>50</td>\n",
       "      <td>Usual Suspects, The (1995)</td>\n",
       "      <td>Crime,Mystery,Thriller</td>\n",
       "      <td>Held in an L.A. interrogation room, Verbal Kin...</td>\n",
       "      <td>/jgJoRWltoS17nD5MAQ1yK2Ztefw.jpg</td>\n",
       "      <td>204</td>\n",
       "      <td>4.237745</td>\n",
       "      <td>4.205389</td>\n",
       "    </tr>\n",
       "    <tr>\n",
       "      <th>152</th>\n",
       "      <td>260</td>\n",
       "      <td>Star Wars: Episode IV - A New Hope (1977)</td>\n",
       "      <td>Action,Adventure,Sci-Fi</td>\n",
       "      <td>Princess Leia is captured and held hostage by ...</td>\n",
       "      <td>/btTdmkgIvOi0FFip1sPuZI2oQG6.jpg</td>\n",
       "      <td>251</td>\n",
       "      <td>4.231076</td>\n",
       "      <td>4.204795</td>\n",
       "    </tr>\n",
       "    <tr>\n",
       "      <th>374</th>\n",
       "      <td>750</td>\n",
       "      <td>Dr. Strangelove or: How I Learned to Stop Worr...</td>\n",
       "      <td>Comedy,War</td>\n",
       "      <td>Insane General Jack D. Ripper initiates a nucl...</td>\n",
       "      <td>/tviJ68Wj4glQk3CPMvdvExYHxX.jpg</td>\n",
       "      <td>97</td>\n",
       "      <td>4.268041</td>\n",
       "      <td>4.200357</td>\n",
       "    </tr>\n",
       "    <tr>\n",
       "      <th>561</th>\n",
       "      <td>1213</td>\n",
       "      <td>Goodfellas (1990)</td>\n",
       "      <td>Crime,Drama</td>\n",
       "      <td>The true story of Henry Hill, a half-Irish, ha...</td>\n",
       "      <td>/hAPeXBdGDGmXRPj4OZZ0poH65Iu.jpg</td>\n",
       "      <td>126</td>\n",
       "      <td>4.250000</td>\n",
       "      <td>4.198024</td>\n",
       "    </tr>\n",
       "    <tr>\n",
       "      <th>294</th>\n",
       "      <td>527</td>\n",
       "      <td>Schindler's List (1993)</td>\n",
       "      <td>Drama,War</td>\n",
       "      <td>The true story of how businessman Oskar Schind...</td>\n",
       "      <td>/yPisjyLweCl1tbgwgtzBCNCBle.jpg</td>\n",
       "      <td>220</td>\n",
       "      <td>4.225000</td>\n",
       "      <td>4.195318</td>\n",
       "    </tr>\n",
       "    <tr>\n",
       "      <th>2481</th>\n",
       "      <td>58559</td>\n",
       "      <td>Dark Knight, The (2008)</td>\n",
       "      <td>Action,Crime,Drama,IMAX</td>\n",
       "      <td>Batman raises the stakes in his war on crime. ...</td>\n",
       "      <td>/1hRoyzDtpgMU7Dz4JF22RANzQO7.jpg</td>\n",
       "      <td>149</td>\n",
       "      <td>4.238255</td>\n",
       "      <td>4.194469</td>\n",
       "    </tr>\n",
       "  </tbody>\n",
       "</table>\n",
       "</div>"
      ],
      "text/plain": [
       "      movieId                                              title  \\\n",
       "183       318                   Shawshank Redemption, The (1994)   \n",
       "408       858                              Godfather, The (1972)   \n",
       "1276     2959                                  Fight Club (1999)   \n",
       "569      1221                     Godfather: Part II, The (1974)   \n",
       "42         50                         Usual Suspects, The (1995)   \n",
       "152       260          Star Wars: Episode IV - A New Hope (1977)   \n",
       "374       750  Dr. Strangelove or: How I Learned to Stop Worr...   \n",
       "561      1213                                  Goodfellas (1990)   \n",
       "294       527                            Schindler's List (1993)   \n",
       "2481    58559                            Dark Knight, The (2008)   \n",
       "\n",
       "                           genres  \\\n",
       "183                   Crime,Drama   \n",
       "408                   Crime,Drama   \n",
       "1276  Action,Crime,Drama,Thriller   \n",
       "569                   Crime,Drama   \n",
       "42         Crime,Mystery,Thriller   \n",
       "152       Action,Adventure,Sci-Fi   \n",
       "374                    Comedy,War   \n",
       "561                   Crime,Drama   \n",
       "294                     Drama,War   \n",
       "2481      Action,Crime,Drama,IMAX   \n",
       "\n",
       "                                               overview  \\\n",
       "183   Framed in the 1940s for the double murder of h...   \n",
       "408   Spanning the years 1945 to 1955, a chronicle o...   \n",
       "1276  A ticking-time-bomb insomniac and a slippery s...   \n",
       "569   In the continuing saga of the Corleone crime f...   \n",
       "42    Held in an L.A. interrogation room, Verbal Kin...   \n",
       "152   Princess Leia is captured and held hostage by ...   \n",
       "374   Insane General Jack D. Ripper initiates a nucl...   \n",
       "561   The true story of Henry Hill, a half-Irish, ha...   \n",
       "294   The true story of how businessman Oskar Schind...   \n",
       "2481  Batman raises the stakes in his war on crime. ...   \n",
       "\n",
       "                           poster_path  vote_count  avg_rating  \\\n",
       "183   /9O7gLzmreU0nGkIB6K3BsJbzvNv.jpg         317    4.429022   \n",
       "408   /rPdtLWNsZmAtoZl9PK7S2wE3qiS.jpg         192    4.289062   \n",
       "1276  /adw6Lq9FiC9zjYEpOqfq03ituwp.jpg         218    4.272936   \n",
       "569   /bVq65huQ8vHDd1a4Z37QtuyEvpA.jpg         129    4.259690   \n",
       "42    /jgJoRWltoS17nD5MAQ1yK2Ztefw.jpg         204    4.237745   \n",
       "152   /btTdmkgIvOi0FFip1sPuZI2oQG6.jpg         251    4.231076   \n",
       "374    /tviJ68Wj4glQk3CPMvdvExYHxX.jpg          97    4.268041   \n",
       "561   /hAPeXBdGDGmXRPj4OZZ0poH65Iu.jpg         126    4.250000   \n",
       "294    /yPisjyLweCl1tbgwgtzBCNCBle.jpg         220    4.225000   \n",
       "2481  /1hRoyzDtpgMU7Dz4JF22RANzQO7.jpg         149    4.238255   \n",
       "\n",
       "      weighted_rating  \n",
       "183          4.403818  \n",
       "408          4.252950  \n",
       "1276         4.241498  \n",
       "569          4.208361  \n",
       "42           4.205389  \n",
       "152          4.204795  \n",
       "374          4.200357  \n",
       "561          4.198024  \n",
       "294          4.195318  \n",
       "2481         4.194469  "
      ]
     },
     "execution_count": 158,
     "metadata": {},
     "output_type": "execute_result"
    }
   ],
   "source": [
    "get_highly_rated(ratings,movies)"
   ]
  },
  {
   "cell_type": "code",
   "execution_count": 145,
   "id": "7dd29033",
   "metadata": {},
   "outputs": [
    {
     "data": {
      "text/plain": [
       "'\\n<============== content based recommendations ==============>\\n'"
      ]
     },
     "execution_count": 145,
     "metadata": {},
     "output_type": "execute_result"
    }
   ],
   "source": [
    "'''\n",
    "<============== content based recommendations ==============>\n",
    "'''"
   ]
  },
  {
   "cell_type": "code",
   "execution_count": 9,
   "id": "6d4ff4c9",
   "metadata": {},
   "outputs": [],
   "source": [
    "from sklearn.metrics.pairwise import cosine_similarity"
   ]
  },
  {
   "cell_type": "code",
   "execution_count": 10,
   "id": "3ef5d744",
   "metadata": {},
   "outputs": [],
   "source": [
    "# preprocessing\n",
    "ratedMovies = movies.loc[movies['movieId'].isin(ratings['movieId'])].copy()"
   ]
  },
  {
   "cell_type": "code",
   "execution_count": 11,
   "id": "cc777845",
   "metadata": {},
   "outputs": [],
   "source": [
    "# extract the genre\n",
    "genre = ratedMovies['genres'].str.split(\",\", expand=True)\n",
    "\n",
    "# get all possible genre\n",
    "all_genre = set()\n",
    "for c in genre.columns:\n",
    "    distinct_genre = genre[c].str.lower().str.strip().unique()\n",
    "    all_genre.update(distinct_genre)\n",
    "all_genre.remove(None)\n",
    "all_genre.remove('(no genres listed)')"
   ]
  },
  {
   "cell_type": "code",
   "execution_count": 12,
   "id": "2729d5a7",
   "metadata": {},
   "outputs": [],
   "source": [
    "# create item-genre matrix\n",
    "item_genre_mat = ratedMovies[['movieId', 'genres']].copy()\n",
    "item_genre_mat['genres'] = item_genre_mat['genres'].str.lower().str.strip()\n",
    "\n",
    "# OHE the genres column\n",
    "for genre in all_genre:\n",
    "    item_genre_mat[genre] = np.where(item_genre_mat['genres'].str.contains(genre), 1, 0)\n",
    "item_genre_mat = item_genre_mat.drop(['genres'], axis=1)\n",
    "item_genre_mat = item_genre_mat.set_index('movieId')\n",
    "\n",
    "# compute similarity matix\n",
    "corr_mat = cosine_similarity(item_genre_mat)"
   ]
  },
  {
   "cell_type": "code",
   "execution_count": 13,
   "id": "29930a4e",
   "metadata": {},
   "outputs": [],
   "source": [
    "def top_k_items(item_id, top_k, corr_mat, map_name):\n",
    "    \n",
    "    # sort correlation value ascendingly and select top_k item_id\n",
    "    top_items = corr_mat[item_id,:].argsort()[-top_k:][::-1] \n",
    "    top_items = [map_name[e] for e in top_items] \n",
    "\n",
    "    return top_items"
   ]
  },
  {
   "cell_type": "code",
   "execution_count": 14,
   "id": "1effbb8c",
   "metadata": {},
   "outputs": [],
   "source": [
    "# get top-k similar items\n",
    "ind2name = {ind:name for ind,name in enumerate(item_genre_mat.index)}\n",
    "name2ind = {v:k for k,v in ind2name.items()}"
   ]
  },
  {
   "cell_type": "code",
   "execution_count": 30,
   "id": "5ac6a243",
   "metadata": {},
   "outputs": [],
   "source": [
    "movieId = 110102"
   ]
  },
  {
   "cell_type": "code",
   "execution_count": 31,
   "id": "e992618e",
   "metadata": {},
   "outputs": [],
   "source": [
    "similar_items = top_k_items(name2ind[movieId],\n",
    "                            top_k = 10,\n",
    "                            corr_mat = corr_mat,\n",
    "                            map_name = ind2name)\n",
    "similar_items.remove(movieId)"
   ]
  },
  {
   "cell_type": "code",
   "execution_count": 32,
   "id": "b8bd81dc",
   "metadata": {},
   "outputs": [
    {
     "data": {
      "text/plain": [
       "[5378, 106487, 46530, 102445, 102880, 101864, 68358, 103228, 72998]"
      ]
     },
     "execution_count": 32,
     "metadata": {},
     "output_type": "execute_result"
    }
   ],
   "source": [
    "similar_items"
   ]
  },
  {
   "cell_type": "code",
   "execution_count": 33,
   "id": "92dd7b63",
   "metadata": {},
   "outputs": [
    {
     "data": {
      "text/html": [
       "<div>\n",
       "<style scoped>\n",
       "    .dataframe tbody tr th:only-of-type {\n",
       "        vertical-align: middle;\n",
       "    }\n",
       "\n",
       "    .dataframe tbody tr th {\n",
       "        vertical-align: top;\n",
       "    }\n",
       "\n",
       "    .dataframe thead th {\n",
       "        text-align: right;\n",
       "    }\n",
       "</style>\n",
       "<table border=\"1\" class=\"dataframe\">\n",
       "  <thead>\n",
       "    <tr style=\"text-align: right;\">\n",
       "      <th></th>\n",
       "      <th>movieId</th>\n",
       "      <th>title</th>\n",
       "      <th>genres</th>\n",
       "      <th>imdbId</th>\n",
       "      <th>tmdbId</th>\n",
       "    </tr>\n",
       "  </thead>\n",
       "  <tbody>\n",
       "    <tr>\n",
       "      <th>3832</th>\n",
       "      <td>5378</td>\n",
       "      <td>Star Wars: Episode II - Attack of the Clones (...</td>\n",
       "      <td>Action,Adventure,Sci-Fi,IMAX</td>\n",
       "      <td>121765</td>\n",
       "      <td>1894.0</td>\n",
       "    </tr>\n",
       "    <tr>\n",
       "      <th>6238</th>\n",
       "      <td>46530</td>\n",
       "      <td>Superman Returns (2006)</td>\n",
       "      <td>Action,Adventure,Sci-Fi,IMAX</td>\n",
       "      <td>348150</td>\n",
       "      <td>1452.0</td>\n",
       "    </tr>\n",
       "    <tr>\n",
       "      <th>7018</th>\n",
       "      <td>68358</td>\n",
       "      <td>Star Trek (2009)</td>\n",
       "      <td>Action,Adventure,Sci-Fi,IMAX</td>\n",
       "      <td>796366</td>\n",
       "      <td>13475.0</td>\n",
       "    </tr>\n",
       "    <tr>\n",
       "      <th>7212</th>\n",
       "      <td>72998</td>\n",
       "      <td>Avatar (2009)</td>\n",
       "      <td>Action,Adventure,Sci-Fi,IMAX</td>\n",
       "      <td>499549</td>\n",
       "      <td>19995.0</td>\n",
       "    </tr>\n",
       "    <tr>\n",
       "      <th>8137</th>\n",
       "      <td>101864</td>\n",
       "      <td>Oblivion (2013)</td>\n",
       "      <td>Action,Adventure,Sci-Fi,IMAX</td>\n",
       "      <td>1483013</td>\n",
       "      <td>75612.0</td>\n",
       "    </tr>\n",
       "    <tr>\n",
       "      <th>8159</th>\n",
       "      <td>102445</td>\n",
       "      <td>Star Trek Into Darkness (2013)</td>\n",
       "      <td>Action,Adventure,Sci-Fi,IMAX</td>\n",
       "      <td>1408101</td>\n",
       "      <td>54138.0</td>\n",
       "    </tr>\n",
       "    <tr>\n",
       "      <th>8178</th>\n",
       "      <td>102880</td>\n",
       "      <td>After Earth (2013)</td>\n",
       "      <td>Action,Adventure,Sci-Fi,IMAX</td>\n",
       "      <td>1815862</td>\n",
       "      <td>82700.0</td>\n",
       "    </tr>\n",
       "    <tr>\n",
       "      <th>8194</th>\n",
       "      <td>103228</td>\n",
       "      <td>Pacific Rim (2013)</td>\n",
       "      <td>Action,Adventure,Sci-Fi,IMAX</td>\n",
       "      <td>1663662</td>\n",
       "      <td>68726.0</td>\n",
       "    </tr>\n",
       "    <tr>\n",
       "      <th>8295</th>\n",
       "      <td>106487</td>\n",
       "      <td>The Hunger Games: Catching Fire (2013)</td>\n",
       "      <td>Action,Adventure,Sci-Fi,IMAX</td>\n",
       "      <td>1951264</td>\n",
       "      <td>101299.0</td>\n",
       "    </tr>\n",
       "  </tbody>\n",
       "</table>\n",
       "</div>"
      ],
      "text/plain": [
       "      movieId                                              title  \\\n",
       "3832     5378  Star Wars: Episode II - Attack of the Clones (...   \n",
       "6238    46530                            Superman Returns (2006)   \n",
       "7018    68358                                   Star Trek (2009)   \n",
       "7212    72998                                      Avatar (2009)   \n",
       "8137   101864                                    Oblivion (2013)   \n",
       "8159   102445                     Star Trek Into Darkness (2013)   \n",
       "8178   102880                                 After Earth (2013)   \n",
       "8194   103228                                 Pacific Rim (2013)   \n",
       "8295   106487             The Hunger Games: Catching Fire (2013)   \n",
       "\n",
       "                            genres   imdbId    tmdbId  \n",
       "3832  Action,Adventure,Sci-Fi,IMAX   121765    1894.0  \n",
       "6238  Action,Adventure,Sci-Fi,IMAX   348150    1452.0  \n",
       "7018  Action,Adventure,Sci-Fi,IMAX   796366   13475.0  \n",
       "7212  Action,Adventure,Sci-Fi,IMAX   499549   19995.0  \n",
       "8137  Action,Adventure,Sci-Fi,IMAX  1483013   75612.0  \n",
       "8159  Action,Adventure,Sci-Fi,IMAX  1408101   54138.0  \n",
       "8178  Action,Adventure,Sci-Fi,IMAX  1815862   82700.0  \n",
       "8194  Action,Adventure,Sci-Fi,IMAX  1663662   68726.0  \n",
       "8295  Action,Adventure,Sci-Fi,IMAX  1951264  101299.0  "
      ]
     },
     "metadata": {},
     "output_type": "display_data"
    }
   ],
   "source": [
    "display(movies.loc[movies['movieId'].isin(similar_items)])"
   ]
  },
  {
   "cell_type": "code",
   "execution_count": null,
   "id": "6a058c43",
   "metadata": {},
   "outputs": [],
   "source": [
    "'''\n",
    "<============== collaborative filtering recommendations ==============>\n",
    "'''"
   ]
  },
  {
   "cell_type": "code",
   "execution_count": 31,
   "id": "7c93d73b",
   "metadata": {},
   "outputs": [],
   "source": [
    "from scipy.sparse import csr_matrix\n",
    "from sklearn.metrics.pairwise import cosine_similarity"
   ]
  },
  {
   "cell_type": "code",
   "execution_count": 32,
   "id": "98531b9f",
   "metadata": {},
   "outputs": [
    {
     "name": "stdout",
     "output_type": "stream",
     "text": [
      "<class 'pandas.core.frame.DataFrame'>\n",
      "RangeIndex: 100836 entries, 0 to 100835\n",
      "Data columns (total 4 columns):\n",
      " #   Column     Non-Null Count   Dtype  \n",
      "---  ------     --------------   -----  \n",
      " 0   userId     100836 non-null  int64  \n",
      " 1   movieId    100836 non-null  int64  \n",
      " 2   rating     100836 non-null  float64\n",
      " 3   timestamp  100836 non-null  int64  \n",
      "dtypes: float64(1), int64(3)\n",
      "memory usage: 3.1 MB\n"
     ]
    }
   ],
   "source": [
    "ratings.info()"
   ]
  },
  {
   "cell_type": "code",
   "execution_count": 37,
   "id": "f6197d0e",
   "metadata": {
    "scrolled": true
   },
   "outputs": [
    {
     "ename": "ValueError",
     "evalue": "column index exceeds matrix dimensions",
     "output_type": "error",
     "traceback": [
      "\u001b[1;31m---------------------------------------------------------------------------\u001b[0m",
      "\u001b[1;31mValueError\u001b[0m                                Traceback (most recent call last)",
      "\u001b[1;32m~\\AppData\\Local\\Temp/ipykernel_12252/2879843211.py\u001b[0m in \u001b[0;36m<module>\u001b[1;34m\u001b[0m\n\u001b[0;32m      8\u001b[0m \u001b[1;33m\u001b[0m\u001b[0m\n\u001b[0;32m      9\u001b[0m \u001b[1;31m# init user-item matrix\u001b[0m\u001b[1;33m\u001b[0m\u001b[1;33m\u001b[0m\u001b[0m\n\u001b[1;32m---> 10\u001b[1;33m \u001b[0mmat\u001b[0m \u001b[1;33m=\u001b[0m \u001b[0mcsr_matrix\u001b[0m\u001b[1;33m(\u001b[0m\u001b[1;33m(\u001b[0m\u001b[0mdata\u001b[0m\u001b[1;33m,\u001b[0m \u001b[1;33m(\u001b[0m\u001b[0mrow\u001b[0m\u001b[1;33m,\u001b[0m \u001b[0mcol\u001b[0m\u001b[1;33m)\u001b[0m\u001b[1;33m)\u001b[0m\u001b[1;33m,\u001b[0m \u001b[0mshape\u001b[0m\u001b[1;33m=\u001b[0m\u001b[1;33m(\u001b[0m\u001b[0mNUM_ITEMS\u001b[0m\u001b[1;33m,\u001b[0m \u001b[0mNUM_ITEMS\u001b[0m\u001b[1;33m)\u001b[0m\u001b[1;33m)\u001b[0m\u001b[1;33m\u001b[0m\u001b[1;33m\u001b[0m\u001b[0m\n\u001b[0m\u001b[0;32m     11\u001b[0m \u001b[0mmat\u001b[0m\u001b[1;33m.\u001b[0m\u001b[0meliminate_zeros\u001b[0m\u001b[1;33m(\u001b[0m\u001b[1;33m)\u001b[0m\u001b[1;33m\u001b[0m\u001b[1;33m\u001b[0m\u001b[0m\n",
      "\u001b[1;32m~\\anaconda3\\lib\\site-packages\\scipy\\sparse\\compressed.py\u001b[0m in \u001b[0;36m__init__\u001b[1;34m(self, arg1, shape, dtype, copy)\u001b[0m\n\u001b[0;32m     52\u001b[0m                     \u001b[1;31m# (data, ij) format\u001b[0m\u001b[1;33m\u001b[0m\u001b[1;33m\u001b[0m\u001b[0m\n\u001b[0;32m     53\u001b[0m                     \u001b[1;32mfrom\u001b[0m \u001b[1;33m.\u001b[0m\u001b[0mcoo\u001b[0m \u001b[1;32mimport\u001b[0m \u001b[0mcoo_matrix\u001b[0m\u001b[1;33m\u001b[0m\u001b[1;33m\u001b[0m\u001b[0m\n\u001b[1;32m---> 54\u001b[1;33m                     other = self.__class__(coo_matrix(arg1, shape=shape,\n\u001b[0m\u001b[0;32m     55\u001b[0m                                                       dtype=dtype))\n\u001b[0;32m     56\u001b[0m                     \u001b[0mself\u001b[0m\u001b[1;33m.\u001b[0m\u001b[0m_set_self\u001b[0m\u001b[1;33m(\u001b[0m\u001b[0mother\u001b[0m\u001b[1;33m)\u001b[0m\u001b[1;33m\u001b[0m\u001b[1;33m\u001b[0m\u001b[0m\n",
      "\u001b[1;32m~\\anaconda3\\lib\\site-packages\\scipy\\sparse\\coo.py\u001b[0m in \u001b[0;36m__init__\u001b[1;34m(self, arg1, shape, dtype, copy)\u001b[0m\n\u001b[0;32m    194\u001b[0m             \u001b[0mself\u001b[0m\u001b[1;33m.\u001b[0m\u001b[0mdata\u001b[0m \u001b[1;33m=\u001b[0m \u001b[0mself\u001b[0m\u001b[1;33m.\u001b[0m\u001b[0mdata\u001b[0m\u001b[1;33m.\u001b[0m\u001b[0mastype\u001b[0m\u001b[1;33m(\u001b[0m\u001b[0mdtype\u001b[0m\u001b[1;33m,\u001b[0m \u001b[0mcopy\u001b[0m\u001b[1;33m=\u001b[0m\u001b[1;32mFalse\u001b[0m\u001b[1;33m)\u001b[0m\u001b[1;33m\u001b[0m\u001b[1;33m\u001b[0m\u001b[0m\n\u001b[0;32m    195\u001b[0m \u001b[1;33m\u001b[0m\u001b[0m\n\u001b[1;32m--> 196\u001b[1;33m         \u001b[0mself\u001b[0m\u001b[1;33m.\u001b[0m\u001b[0m_check\u001b[0m\u001b[1;33m(\u001b[0m\u001b[1;33m)\u001b[0m\u001b[1;33m\u001b[0m\u001b[1;33m\u001b[0m\u001b[0m\n\u001b[0m\u001b[0;32m    197\u001b[0m \u001b[1;33m\u001b[0m\u001b[0m\n\u001b[0;32m    198\u001b[0m     \u001b[1;32mdef\u001b[0m \u001b[0mreshape\u001b[0m\u001b[1;33m(\u001b[0m\u001b[0mself\u001b[0m\u001b[1;33m,\u001b[0m \u001b[1;33m*\u001b[0m\u001b[0margs\u001b[0m\u001b[1;33m,\u001b[0m \u001b[1;33m**\u001b[0m\u001b[0mkwargs\u001b[0m\u001b[1;33m)\u001b[0m\u001b[1;33m:\u001b[0m\u001b[1;33m\u001b[0m\u001b[1;33m\u001b[0m\u001b[0m\n",
      "\u001b[1;32m~\\anaconda3\\lib\\site-packages\\scipy\\sparse\\coo.py\u001b[0m in \u001b[0;36m_check\u001b[1;34m(self)\u001b[0m\n\u001b[0;32m    283\u001b[0m                 \u001b[1;32mraise\u001b[0m \u001b[0mValueError\u001b[0m\u001b[1;33m(\u001b[0m\u001b[1;34m'row index exceeds matrix dimensions'\u001b[0m\u001b[1;33m)\u001b[0m\u001b[1;33m\u001b[0m\u001b[1;33m\u001b[0m\u001b[0m\n\u001b[0;32m    284\u001b[0m             \u001b[1;32mif\u001b[0m \u001b[0mself\u001b[0m\u001b[1;33m.\u001b[0m\u001b[0mcol\u001b[0m\u001b[1;33m.\u001b[0m\u001b[0mmax\u001b[0m\u001b[1;33m(\u001b[0m\u001b[1;33m)\u001b[0m \u001b[1;33m>=\u001b[0m \u001b[0mself\u001b[0m\u001b[1;33m.\u001b[0m\u001b[0mshape\u001b[0m\u001b[1;33m[\u001b[0m\u001b[1;36m1\u001b[0m\u001b[1;33m]\u001b[0m\u001b[1;33m:\u001b[0m\u001b[1;33m\u001b[0m\u001b[1;33m\u001b[0m\u001b[0m\n\u001b[1;32m--> 285\u001b[1;33m                 \u001b[1;32mraise\u001b[0m \u001b[0mValueError\u001b[0m\u001b[1;33m(\u001b[0m\u001b[1;34m'column index exceeds matrix dimensions'\u001b[0m\u001b[1;33m)\u001b[0m\u001b[1;33m\u001b[0m\u001b[1;33m\u001b[0m\u001b[0m\n\u001b[0m\u001b[0;32m    286\u001b[0m             \u001b[1;32mif\u001b[0m \u001b[0mself\u001b[0m\u001b[1;33m.\u001b[0m\u001b[0mrow\u001b[0m\u001b[1;33m.\u001b[0m\u001b[0mmin\u001b[0m\u001b[1;33m(\u001b[0m\u001b[1;33m)\u001b[0m \u001b[1;33m<\u001b[0m \u001b[1;36m0\u001b[0m\u001b[1;33m:\u001b[0m\u001b[1;33m\u001b[0m\u001b[1;33m\u001b[0m\u001b[0m\n\u001b[0;32m    287\u001b[0m                 \u001b[1;32mraise\u001b[0m \u001b[0mValueError\u001b[0m\u001b[1;33m(\u001b[0m\u001b[1;34m'negative row index found'\u001b[0m\u001b[1;33m)\u001b[0m\u001b[1;33m\u001b[0m\u001b[1;33m\u001b[0m\u001b[0m\n",
      "\u001b[1;31mValueError\u001b[0m: column index exceeds matrix dimensions"
     ]
    }
   ],
   "source": [
    "# preprocess data\n",
    "row = ratings['userId']\n",
    "col = ratings['movieId']\n",
    "data = ratings['rating']\n",
    "\n",
    "# NUM_USERS = len(ratings['userId'].unique())\n",
    "NUM_ITEMS = len(ratings['movieId'].unique())\n",
    "\n",
    "# init user-item matrix\n",
    "mat = csr_matrix((data, (row, col)), shape=(NUM_ITEMS, NUM_ITEMS))\n",
    "mat.eliminate_zeros()"
   ]
  },
  {
   "cell_type": "code",
   "execution_count": 38,
   "id": "16e942bb",
   "metadata": {},
   "outputs": [
    {
     "name": "stdout",
     "output_type": "stream",
     "text": [
      "Sparsity: 0.09%. This means that 0.09% of the user-item ratings have a value.\n"
     ]
    }
   ],
   "source": [
    "\n",
    "# calculate sparsity\n",
    "sparsity = float(len(mat.nonzero()[0]))\n",
    "sparsity /= (mat.shape[0] * mat.shape[1])\n",
    "sparsity *= 100\n",
    "print(f'Sparsity: {sparsity:4.2f}%. This means that {sparsity:4.2f}% of the user-item ratings have a value.')"
   ]
  },
  {
   "cell_type": "code",
   "execution_count": 39,
   "id": "8dd65764",
   "metadata": {},
   "outputs": [
    {
     "ename": "MemoryError",
     "evalue": "Unable to allocate 279. GiB for an array with shape (193610, 193610) and data type float64",
     "output_type": "error",
     "traceback": [
      "\u001b[1;31m---------------------------------------------------------------------------\u001b[0m",
      "\u001b[1;31mMemoryError\u001b[0m                               Traceback (most recent call last)",
      "\u001b[1;32m~\\AppData\\Local\\Temp/ipykernel_12252/2452039892.py\u001b[0m in \u001b[0;36m<module>\u001b[1;34m\u001b[0m\n\u001b[0;32m      1\u001b[0m \u001b[1;31m# compute similarity\u001b[0m\u001b[1;33m\u001b[0m\u001b[1;33m\u001b[0m\u001b[0m\n\u001b[1;32m----> 2\u001b[1;33m \u001b[0mitem_corr_mat\u001b[0m \u001b[1;33m=\u001b[0m \u001b[0mcosine_similarity\u001b[0m\u001b[1;33m(\u001b[0m\u001b[0mmat\u001b[0m\u001b[1;33m.\u001b[0m\u001b[0mT\u001b[0m\u001b[1;33m)\u001b[0m\u001b[1;33m\u001b[0m\u001b[1;33m\u001b[0m\u001b[0m\n\u001b[0m\u001b[0;32m      3\u001b[0m \u001b[1;33m\u001b[0m\u001b[0m\n\u001b[0;32m      4\u001b[0m \u001b[1;31m# get top k item\u001b[0m\u001b[1;33m\u001b[0m\u001b[1;33m\u001b[0m\u001b[0m\n\u001b[0;32m      5\u001b[0m \u001b[0mprint\u001b[0m\u001b[1;33m(\u001b[0m\u001b[1;34m\"\\nThe top-k similar movie to item_id 99\"\u001b[0m\u001b[1;33m)\u001b[0m\u001b[1;33m\u001b[0m\u001b[1;33m\u001b[0m\u001b[0m\n",
      "\u001b[1;32m~\\anaconda3\\lib\\site-packages\\sklearn\\metrics\\pairwise.py\u001b[0m in \u001b[0;36mcosine_similarity\u001b[1;34m(X, Y, dense_output)\u001b[0m\n\u001b[0;32m   1186\u001b[0m         \u001b[0mY_normalized\u001b[0m \u001b[1;33m=\u001b[0m \u001b[0mnormalize\u001b[0m\u001b[1;33m(\u001b[0m\u001b[0mY\u001b[0m\u001b[1;33m,\u001b[0m \u001b[0mcopy\u001b[0m\u001b[1;33m=\u001b[0m\u001b[1;32mTrue\u001b[0m\u001b[1;33m)\u001b[0m\u001b[1;33m\u001b[0m\u001b[1;33m\u001b[0m\u001b[0m\n\u001b[0;32m   1187\u001b[0m \u001b[1;33m\u001b[0m\u001b[0m\n\u001b[1;32m-> 1188\u001b[1;33m     K = safe_sparse_dot(X_normalized, Y_normalized.T,\n\u001b[0m\u001b[0;32m   1189\u001b[0m                         dense_output=dense_output)\n\u001b[0;32m   1190\u001b[0m \u001b[1;33m\u001b[0m\u001b[0m\n",
      "\u001b[1;32m~\\anaconda3\\lib\\site-packages\\sklearn\\utils\\validation.py\u001b[0m in \u001b[0;36minner_f\u001b[1;34m(*args, **kwargs)\u001b[0m\n\u001b[0;32m     61\u001b[0m             \u001b[0mextra_args\u001b[0m \u001b[1;33m=\u001b[0m \u001b[0mlen\u001b[0m\u001b[1;33m(\u001b[0m\u001b[0margs\u001b[0m\u001b[1;33m)\u001b[0m \u001b[1;33m-\u001b[0m \u001b[0mlen\u001b[0m\u001b[1;33m(\u001b[0m\u001b[0mall_args\u001b[0m\u001b[1;33m)\u001b[0m\u001b[1;33m\u001b[0m\u001b[1;33m\u001b[0m\u001b[0m\n\u001b[0;32m     62\u001b[0m             \u001b[1;32mif\u001b[0m \u001b[0mextra_args\u001b[0m \u001b[1;33m<=\u001b[0m \u001b[1;36m0\u001b[0m\u001b[1;33m:\u001b[0m\u001b[1;33m\u001b[0m\u001b[1;33m\u001b[0m\u001b[0m\n\u001b[1;32m---> 63\u001b[1;33m                 \u001b[1;32mreturn\u001b[0m \u001b[0mf\u001b[0m\u001b[1;33m(\u001b[0m\u001b[1;33m*\u001b[0m\u001b[0margs\u001b[0m\u001b[1;33m,\u001b[0m \u001b[1;33m**\u001b[0m\u001b[0mkwargs\u001b[0m\u001b[1;33m)\u001b[0m\u001b[1;33m\u001b[0m\u001b[1;33m\u001b[0m\u001b[0m\n\u001b[0m\u001b[0;32m     64\u001b[0m \u001b[1;33m\u001b[0m\u001b[0m\n\u001b[0;32m     65\u001b[0m             \u001b[1;31m# extra_args > 0\u001b[0m\u001b[1;33m\u001b[0m\u001b[1;33m\u001b[0m\u001b[0m\n",
      "\u001b[1;32m~\\anaconda3\\lib\\site-packages\\sklearn\\utils\\extmath.py\u001b[0m in \u001b[0;36msafe_sparse_dot\u001b[1;34m(a, b, dense_output)\u001b[0m\n\u001b[0;32m    154\u001b[0m     if (sparse.issparse(a) and sparse.issparse(b)\n\u001b[0;32m    155\u001b[0m             and dense_output and hasattr(ret, \"toarray\")):\n\u001b[1;32m--> 156\u001b[1;33m         \u001b[1;32mreturn\u001b[0m \u001b[0mret\u001b[0m\u001b[1;33m.\u001b[0m\u001b[0mtoarray\u001b[0m\u001b[1;33m(\u001b[0m\u001b[1;33m)\u001b[0m\u001b[1;33m\u001b[0m\u001b[1;33m\u001b[0m\u001b[0m\n\u001b[0m\u001b[0;32m    157\u001b[0m     \u001b[1;32mreturn\u001b[0m \u001b[0mret\u001b[0m\u001b[1;33m\u001b[0m\u001b[1;33m\u001b[0m\u001b[0m\n\u001b[0;32m    158\u001b[0m \u001b[1;33m\u001b[0m\u001b[0m\n",
      "\u001b[1;32m~\\anaconda3\\lib\\site-packages\\scipy\\sparse\\compressed.py\u001b[0m in \u001b[0;36mtoarray\u001b[1;34m(self, order, out)\u001b[0m\n\u001b[0;32m   1029\u001b[0m         \u001b[1;32mif\u001b[0m \u001b[0mout\u001b[0m \u001b[1;32mis\u001b[0m \u001b[1;32mNone\u001b[0m \u001b[1;32mand\u001b[0m \u001b[0morder\u001b[0m \u001b[1;32mis\u001b[0m \u001b[1;32mNone\u001b[0m\u001b[1;33m:\u001b[0m\u001b[1;33m\u001b[0m\u001b[1;33m\u001b[0m\u001b[0m\n\u001b[0;32m   1030\u001b[0m             \u001b[0morder\u001b[0m \u001b[1;33m=\u001b[0m \u001b[0mself\u001b[0m\u001b[1;33m.\u001b[0m\u001b[0m_swap\u001b[0m\u001b[1;33m(\u001b[0m\u001b[1;34m'cf'\u001b[0m\u001b[1;33m)\u001b[0m\u001b[1;33m[\u001b[0m\u001b[1;36m0\u001b[0m\u001b[1;33m]\u001b[0m\u001b[1;33m\u001b[0m\u001b[1;33m\u001b[0m\u001b[0m\n\u001b[1;32m-> 1031\u001b[1;33m         \u001b[0mout\u001b[0m \u001b[1;33m=\u001b[0m \u001b[0mself\u001b[0m\u001b[1;33m.\u001b[0m\u001b[0m_process_toarray_args\u001b[0m\u001b[1;33m(\u001b[0m\u001b[0morder\u001b[0m\u001b[1;33m,\u001b[0m \u001b[0mout\u001b[0m\u001b[1;33m)\u001b[0m\u001b[1;33m\u001b[0m\u001b[1;33m\u001b[0m\u001b[0m\n\u001b[0m\u001b[0;32m   1032\u001b[0m         \u001b[1;32mif\u001b[0m \u001b[1;32mnot\u001b[0m \u001b[1;33m(\u001b[0m\u001b[0mout\u001b[0m\u001b[1;33m.\u001b[0m\u001b[0mflags\u001b[0m\u001b[1;33m.\u001b[0m\u001b[0mc_contiguous\u001b[0m \u001b[1;32mor\u001b[0m \u001b[0mout\u001b[0m\u001b[1;33m.\u001b[0m\u001b[0mflags\u001b[0m\u001b[1;33m.\u001b[0m\u001b[0mf_contiguous\u001b[0m\u001b[1;33m)\u001b[0m\u001b[1;33m:\u001b[0m\u001b[1;33m\u001b[0m\u001b[1;33m\u001b[0m\u001b[0m\n\u001b[0;32m   1033\u001b[0m             \u001b[1;32mraise\u001b[0m \u001b[0mValueError\u001b[0m\u001b[1;33m(\u001b[0m\u001b[1;34m'Output array must be C or F contiguous'\u001b[0m\u001b[1;33m)\u001b[0m\u001b[1;33m\u001b[0m\u001b[1;33m\u001b[0m\u001b[0m\n",
      "\u001b[1;32m~\\anaconda3\\lib\\site-packages\\scipy\\sparse\\base.py\u001b[0m in \u001b[0;36m_process_toarray_args\u001b[1;34m(self, order, out)\u001b[0m\n\u001b[0;32m   1200\u001b[0m             \u001b[1;32mreturn\u001b[0m \u001b[0mout\u001b[0m\u001b[1;33m\u001b[0m\u001b[1;33m\u001b[0m\u001b[0m\n\u001b[0;32m   1201\u001b[0m         \u001b[1;32melse\u001b[0m\u001b[1;33m:\u001b[0m\u001b[1;33m\u001b[0m\u001b[1;33m\u001b[0m\u001b[0m\n\u001b[1;32m-> 1202\u001b[1;33m             \u001b[1;32mreturn\u001b[0m \u001b[0mnp\u001b[0m\u001b[1;33m.\u001b[0m\u001b[0mzeros\u001b[0m\u001b[1;33m(\u001b[0m\u001b[0mself\u001b[0m\u001b[1;33m.\u001b[0m\u001b[0mshape\u001b[0m\u001b[1;33m,\u001b[0m \u001b[0mdtype\u001b[0m\u001b[1;33m=\u001b[0m\u001b[0mself\u001b[0m\u001b[1;33m.\u001b[0m\u001b[0mdtype\u001b[0m\u001b[1;33m,\u001b[0m \u001b[0morder\u001b[0m\u001b[1;33m=\u001b[0m\u001b[0morder\u001b[0m\u001b[1;33m)\u001b[0m\u001b[1;33m\u001b[0m\u001b[1;33m\u001b[0m\u001b[0m\n\u001b[0m\u001b[0;32m   1203\u001b[0m \u001b[1;33m\u001b[0m\u001b[0m\n\u001b[0;32m   1204\u001b[0m \u001b[1;33m\u001b[0m\u001b[0m\n",
      "\u001b[1;31mMemoryError\u001b[0m: Unable to allocate 279. GiB for an array with shape (193610, 193610) and data type float64"
     ]
    }
   ],
   "source": [
    "\n",
    "# compute similarity\n",
    "item_corr_mat = cosine_similarity(mat.T)\n",
    "\n",
    "# get top k item\n",
    "print(\"\\nThe top-k similar movie to item_id 99\")\n",
    "similar_items = top_k_items(name2ind['99'],\n",
    "                            top_k = 10,\n",
    "                            corr_mat = item_corr_mat,\n",
    "                            map_name = ind2name)\n",
    "\n",
    "display(items.loc[items[ITEM_COL].isin(similar_items)])"
   ]
  },
  {
   "cell_type": "code",
   "execution_count": null,
   "id": "077aea13",
   "metadata": {},
   "outputs": [],
   "source": []
  }
 ],
 "metadata": {
  "kernelspec": {
   "display_name": "Python 3 (ipykernel)",
   "language": "python",
   "name": "python3"
  },
  "language_info": {
   "codemirror_mode": {
    "name": "ipython",
    "version": 3
   },
   "file_extension": ".py",
   "mimetype": "text/x-python",
   "name": "python",
   "nbconvert_exporter": "python",
   "pygments_lexer": "ipython3",
   "version": "3.9.7"
  }
 },
 "nbformat": 4,
 "nbformat_minor": 5
}
